{
 "cells": [
  {
   "cell_type": "code",
   "execution_count": null,
   "id": "e3f10753-ebcd-4172-8792-bc9106c42819",
   "metadata": {
    "editable": true,
    "slideshow": {
     "slide_type": ""
    },
    "tags": [
     "hide-input"
    ]
   },
   "outputs": [],
   "source": [
    "import seaborn as sns\n",
    "\n",
    "sns.set_theme(\n",
    "    rc={\n",
    "        \"axes.spines.top\": False,\n",
    "        \"axes.spines.right\": False,\n",
    "        \"figure.autolayout\": True,\n",
    "        \"legend.frameon\": False,\n",
    "    },\n",
    "    style=\"ticks\",\n",
    ")"
   ]
  },
  {
   "cell_type": "markdown",
   "id": "1d2c9868-c6c9-4069-b4e8-1f6db0721caf",
   "metadata": {},
   "source": [
    "# Computing likelihood value"
   ]
  },
  {
   "cell_type": "markdown",
   "id": "6707b046-a2c0-436a-acf6-bb0e3010372b",
   "metadata": {},
   "source": [
    "Given a successful installation of `MFLike` data (see [tutorial](tutorial_loading.ipynb)), we can now retrieve likelihood or $\\chi^2$ value given the set of parameter values. First, let's load the `MFLike` instance"
   ]
  },
  {
   "cell_type": "code",
   "execution_count": null,
   "id": "4b55ccae-a651-4264-a1ba-bdee793d4805",
   "metadata": {
    "editable": true,
    "slideshow": {
     "slide_type": ""
    },
    "tags": [
     "remove-output"
    ]
   },
   "outputs": [],
   "source": [
    "%run tutorial_loading.ipynb"
   ]
  },
  {
   "cell_type": "markdown",
   "id": "4fc5e922-6564-4c3f-9657-c198c9823954",
   "metadata": {
    "editable": true,
    "slideshow": {
     "slide_type": ""
    },
    "tags": []
   },
   "source": [
    "We can retrieve informations related to likelihood(s) as follow\n",
    "\n"
   ]
  },
  {
   "cell_type": "code",
   "execution_count": null,
   "id": "226707fc-9379-4cfc-b950-52bb0bb1bab7",
   "metadata": {
    "editable": true,
    "slideshow": {
     "slide_type": ""
    },
    "tags": []
   },
   "outputs": [],
   "source": [
    "loglikes, derived = model.loglikes()\n",
    "print(f\"log-likelihood value = {loglikes}\")"
   ]
  },
  {
   "cell_type": "markdown",
   "id": "9729aa68-b4e9-4b52-8e16-5807d41b73ec",
   "metadata": {
    "editable": true,
    "slideshow": {
     "slide_type": ""
    },
    "tags": []
   },
   "source": [
    "We can directly catch the value returned by `logp` function from `MFLike` likelihood"
   ]
  },
  {
   "cell_type": "code",
   "execution_count": null,
   "id": "dccd8a22-63fb-4e88-a00f-cfc2e9650838",
   "metadata": {
    "editable": true,
    "slideshow": {
     "slide_type": ""
    },
    "tags": []
   },
   "outputs": [],
   "source": [
    "logp = mflike.logp(**fg_params, **nuisance_params)\n",
    "print(f\"log-likelihood value = {logp}\")\n",
    "print(f\"Χ² value = {-2 * (logp - mflike.logp_const)}\")"
   ]
  },
  {
   "cell_type": "markdown",
   "id": "102c3392-8e72-47b8-87b2-15d3cd820b49",
   "metadata": {
    "editable": true,
    "slideshow": {
     "slide_type": ""
    },
    "tags": []
   },
   "source": [
    "Finally, we can also use the `evaluate` sampler that evaluates the log-likelihood at a given reference point"
   ]
  },
  {
   "cell_type": "code",
   "execution_count": null,
   "id": "13c21ca5-2a58-4063-ab2f-ee2a0c2d8f83",
   "metadata": {
    "editable": true,
    "slideshow": {
     "slide_type": ""
    },
    "tags": []
   },
   "outputs": [],
   "source": [
    "from cobaya.run import run\n",
    "\n",
    "info[\"sampler\"] = {\"evaluate\": None}\n",
    "updated_info, products = run(info)"
   ]
  },
  {
   "cell_type": "markdown",
   "id": "7a10011b-6925-4767-9235-82a60d24b38d",
   "metadata": {},
   "source": [
    "## Using the `MFLike` likelihood without `cobaya`"
   ]
  },
  {
   "cell_type": "markdown",
   "id": "23c5118b-b9e6-464e-86e3-203552da8e9a",
   "metadata": {},
   "source": [
    "The `MFLike` likelihood can also be used independently of `cobaya`. The principle is the same as in\n",
    "this `cobaya`'s [example](https://github.com/CobayaSampler/planck_lensing_external). First we need\n",
    "to instantiate an `MFLike` object\n",
    "\n"
   ]
  },
  {
   "cell_type": "code",
   "execution_count": null,
   "id": "04024de0-a7fd-4d34-9001-2fc5676d7707",
   "metadata": {},
   "outputs": [],
   "source": [
    "from mflike import TTTEEE, BandpowerForeground\n",
    "\n",
    "ext_mflike = TTTEEE(mflike_input_file, packages_path=packages_path)\n",
    "foreground_model = BandpowerForeground(ext_mflike.get_fg_requirements())"
   ]
  },
  {
   "cell_type": "markdown",
   "id": "54d23580-02e5-4034-ab80-bc1f2b02b2b7",
   "metadata": {},
   "source": [
    "The $C_\\ell$ dictionary can be retrieved from an independant program or an independant computation. Here we will use `CAMB` to compute the $C_\\ell$ from a cosmological model set by the `cosmo_params`"
   ]
  },
  {
   "cell_type": "code",
   "execution_count": null,
   "id": "6b475601-6b36-4e1a-932e-35d6bc99c691",
   "metadata": {},
   "outputs": [],
   "source": [
    "camb_cosmo = cosmo_params | minimal_settings\n",
    "camb_cosmo.update(lmax=ext_mflike.lmax_theory + 1)\n",
    "\n",
    "pars = camb.set_params(**camb_cosmo)\n",
    "results = camb.get_results(pars)\n",
    "powers = results.get_cmb_power_spectra(pars, CMB_unit=\"muK\")\n",
    "dls_camb = {k: powers[\"total\"][:, v] for k, v in {\"tt\": 0, \"ee\": 1, \"te\": 3, \"bb\": 2}.items()}"
   ]
  },
  {
   "cell_type": "markdown",
   "id": "d314a61e-1859-43dc-bdf0-ab2efd5627a4",
   "metadata": {},
   "source": [
    "We also get the $D_\\ell$ from `cobaya` (see [tutorial](tutorial_foregrounds.ipynb))"
   ]
  },
  {
   "cell_type": "code",
   "execution_count": null,
   "id": "2a2d7c0a-13f1-40f7-ba40-6d4d9fada506",
   "metadata": {
    "editable": true,
    "slideshow": {
     "slide_type": ""
    },
    "tags": []
   },
   "outputs": [],
   "source": [
    "dls_cobaya = model.theory[\"camb\"].get_Cl(ell_factor=True)"
   ]
  },
  {
   "cell_type": "markdown",
   "id": "13d897a2-d5fa-40a5-965f-6187a08e8f3a",
   "metadata": {},
   "source": [
    "Let's plot $D_\\ell$ and let's compare them to the ones from `cobaya`"
   ]
  },
  {
   "cell_type": "code",
   "execution_count": null,
   "id": "409f35d6-ca1f-4dbe-9e27-a601ca9045dc",
   "metadata": {},
   "outputs": [],
   "source": [
    "import matplotlib.pyplot as plt\n",
    "\n",
    "fig = plt.figure(figsize=(8, 6))\n",
    "gs = fig.add_gridspec(4, 2)\n",
    "axes = {\n",
    "    \"tt\": [fig.add_subplot(gs[:3, 0], xticklabels=[]), fig.add_subplot(gs[-1, 0])],\n",
    "    \"te\": [fig.add_subplot(gs[:3, 1], xticklabels=[]), fig.add_subplot(gs[-1, 1])],\n",
    "}\n",
    "\n",
    "\n",
    "ell = dls_cobaya[\"ell\"]\n",
    "for i, mode in enumerate(dls_camb):\n",
    "    plot = axes[\"te\"][0].plot if mode == \"te\" else axes[\"tt\"][0].semilogy\n",
    "    plot(ell, dls_camb[mode], f\"-C{i}\", label=mode.upper())\n",
    "    plot(ell, dls_cobaya[mode], f\"--C{i}\")\n",
    "    ax = axes[\"te\"][1] if mode == \"te\" else axes[\"tt\"][1]\n",
    "    ax.plot(ell, dls_camb[mode] - dls_cobaya[mode], f\"-C{i}\")\n",
    "\n",
    "axes[\"tt\"][0].set_ylabel(r\"$D_\\ell$\")\n",
    "axes[\"tt\"][1].set_ylabel(r\"$\\Delta D_\\ell$\")\n",
    "for mode in axes:\n",
    "    axes[mode][1].set_xlabel(r\"$\\ell$\")\n",
    "    axes[mode][0].plot([], [], \"-k\", label=\"CAMB\")\n",
    "    axes[mode][0].plot([], [], \"--k\", label=\"cobaya\")\n",
    "    axes[mode][0].legend(ncol=1 if mode == \"te\" else 2)"
   ]
  },
  {
   "cell_type": "markdown",
   "id": "97c3df23-bf14-4c9e-9155-92daa7da3415",
   "metadata": {},
   "source": [
    "To compute the log-likelihood value, we can use the `loglike` function which takes as parameters an theoretical $C_\\ell$ dictionary and the nuisance parameter values. We can inject these $D_\\ell$ into the `loglike` function to get the corresponding log-likelihood value"
   ]
  },
  {
   "cell_type": "code",
   "execution_count": null,
   "id": "38eba9fe-1034-4bca-8394-02d0c8e22869",
   "metadata": {},
   "outputs": [],
   "source": [
    "fg_dict = foreground_model.get_foreground_model_totals(**fg_params)\n",
    "loglike = ext_mflike.loglike(dls_camb, fg_dict, **nuisance_params)\n",
    "print(f\"log-likelihood value = {loglike}\")\n",
    "print(f\"Χ² value = {-2 * (loglike - ext_mflike.logp_const)}\")"
   ]
  },
  {
   "cell_type": "markdown",
   "id": "56ad9b0e-2b71-49e8-8971-a86bce35a874",
   "metadata": {},
   "source": [
    "This way, `MFLike` likelihood is almost agnostic with respect to the sampler and can be used by others programs than `cobaya` as far as these programs provide $D_\\ell$ spectra."
   ]
  }
 ],
 "metadata": {
  "kernelspec": {
   "display_name": "Python 3 (ipykernel)",
   "language": "python",
   "name": "python3"
  },
  "language_info": {
   "codemirror_mode": {
    "name": "ipython",
    "version": 3
   },
   "file_extension": ".py",
   "mimetype": "text/x-python",
   "name": "python",
   "nbconvert_exporter": "python",
   "pygments_lexer": "ipython3",
   "version": "3.11.5"
  },
  "widgets": {
   "application/vnd.jupyter.widget-state+json": {
    "state": {},
    "version_major": 2,
    "version_minor": 0
   }
  }
 },
 "nbformat": 4,
 "nbformat_minor": 5
}
