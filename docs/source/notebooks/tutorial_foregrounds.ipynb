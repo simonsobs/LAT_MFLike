{
 "cells": [
  {
   "cell_type": "code",
   "execution_count": null,
   "id": "4ceb8c1d-f460-45c5-8f00-d5796187b05a",
   "metadata": {
    "slideshow": {
     "slide_type": ""
    },
    "tags": [
     "hide-input"
    ]
   },
   "outputs": [],
   "source": [
    "import seaborn as sns\n",
    "\n",
    "sns.set_theme(\n",
    "    rc={\n",
    "        \"axes.spines.top\": False,\n",
    "        \"axes.spines.right\": False,\n",
    "        \"figure.autolayout\": True,\n",
    "        \"legend.frameon\": False,\n",
    "    },\n",
    "    style=\"ticks\",\n",
    ")"
   ]
  },
  {
   "cell_type": "markdown",
   "id": "e03b2d79-6652-4a4b-bbc0-cf44378f49e7",
   "metadata": {},
   "source": [
    "# Plotting CMB & foreground model"
   ]
  },
  {
   "cell_type": "markdown",
   "id": "d0fc87a9-b986-40d0-b763-cbc8cc50147d",
   "metadata": {
    "slideshow": {
     "slide_type": ""
    },
    "tags": []
   },
   "source": [
    "In this tutorial, we will see how to access the foreground model from `MFLike` and how to plot its components in comparison with the CMB theory spectra. To avoid duplicating code, we load the first [tutorial](tutorial_loading.ipynb) of this serie. This way we have access to the `MFLike` instance through the variable `mflike`."
   ]
  },
  {
   "cell_type": "code",
   "execution_count": null,
   "id": "aba04f84-35e6-4a6f-b4df-b58b767743a3",
   "metadata": {
    "slideshow": {
     "slide_type": ""
    },
    "tags": [
     "remove-output"
    ]
   },
   "outputs": [],
   "source": [
    "%run tutorial_loading.ipynb"
   ]
  },
  {
   "cell_type": "markdown",
   "id": "1705bbb3-d4fc-469b-baf0-21adb235b9c2",
   "metadata": {
    "slideshow": {
     "slide_type": ""
    },
    "tags": []
   },
   "source": [
    "## Plotting CMB power spectra\n",
    "\n"
   ]
  },
  {
   "cell_type": "markdown",
   "id": "4d55ae94-7651-4222-ace7-9bf9d21d1090",
   "metadata": {
    "slideshow": {
     "slide_type": ""
    },
    "tags": []
   },
   "source": [
    "We can get the $D_\\ell$s from `camb` using `cobaya` interface (the call of `logposterior` method is needed to trigger the $D_\\ell$ computation)."
   ]
  },
  {
   "cell_type": "code",
   "execution_count": null,
   "id": "be8e0522-1ca9-4395-b0df-f9c4c68e36b5",
   "metadata": {
    "slideshow": {
     "slide_type": ""
    },
    "tags": []
   },
   "outputs": [],
   "source": [
    "model.logposterior({})\n",
    "dls_cmb = model.theory[\"camb\"].get_Cl(ell_factor=True)"
   ]
  },
  {
   "cell_type": "markdown",
   "id": "45a2433f-6772-4c0a-a60e-73cc7ef37a50",
   "metadata": {
    "slideshow": {
     "slide_type": ""
    },
    "tags": []
   },
   "source": [
    "Let's plot the different spectra on the default multipole range used by `MFLike`."
   ]
  },
  {
   "cell_type": "code",
   "execution_count": null,
   "id": "fc62cc85-bc24-4e54-98bd-6fa7ac797e00",
   "metadata": {
    "slideshow": {
     "slide_type": ""
    },
    "tags": []
   },
   "outputs": [],
   "source": [
    "import matplotlib.pyplot as plt\n",
    "\n",
    "ell = mflike.l_bpws\n",
    "\n",
    "fig, axes = plt.subplots(2, 1, sharex=True, figsize=(6, 8))\n",
    "for i, mode in enumerate([\"tt\", \"ee\", \"te\", \"bb\"]):\n",
    "    ax = axes[1] if mode == \"te\" else axes[0]\n",
    "    ax.plot(ell, dls_cmb[mode][ell], f\"-C{i}\", label=mode.upper())\n",
    "\n",
    "for ax in axes:\n",
    "    ax.set_ylabel(r\"$D_\\ell$\")\n",
    "    ax.legend()\n",
    "axes[0].set_yscale(\"log\")\n",
    "axes[1].set_xlabel(r\"$\\ell$\");"
   ]
  },
  {
   "cell_type": "markdown",
   "id": "2650800c-779f-4086-adb4-c53481c6b423",
   "metadata": {
    "slideshow": {
     "slide_type": ""
    },
    "tags": []
   },
   "source": [
    "## Plotting foregrounds\n",
    "\n"
   ]
  },
  {
   "cell_type": "markdown",
   "id": "04cd6293-2e20-4334-9cf9-0ad7cbd44359",
   "metadata": {
    "slideshow": {
     "slide_type": ""
    },
    "tags": []
   },
   "source": [
    "`MFLike` foreground model can be accessed through the `get_foreground_model` function of the `BandpowerForeground` instance. In principle, we can generate a foreground model at higher $\\ell$ than the theory through the `ell` argument; here we keep the same $\\ell$ range to plot the foregrounds with the theory in the next cell."
   ]
  },
  {
   "cell_type": "code",
   "execution_count": null,
   "id": "5d92f955-32a9-4ecf-bd57-586b63744791",
   "metadata": {
    "slideshow": {
     "slide_type": ""
    },
    "tags": []
   },
   "outputs": [],
   "source": [
    "foreground_model = model.theory[\"mflike.BandpowerForeground\"]\n",
    "fg_models = foreground_model.get_foreground_model(ell=ell, **fg_params)"
   ]
  },
  {
   "cell_type": "markdown",
   "id": "257fcef9-4011-4b17-a948-55be787bc692",
   "metadata": {
    "slideshow": {
     "slide_type": ""
    },
    "tags": []
   },
   "source": [
    "We can then plot theory and foregrounds in a triangle plot given the combinations of cross-frequencies. In the following cell we are just making some adjustments on the foreground components to plot `tSZ` and `cibc` autospectrum and their cross correlation separately. "
   ]
  },
  {
   "cell_type": "code",
   "execution_count": null,
   "id": "5ab52bad-b704-491c-a6da-6e4457138a68",
   "metadata": {
    "slideshow": {
     "slide_type": ""
    },
    "tags": []
   },
   "outputs": [],
   "source": [
    "import copy\n",
    "\n",
    "components = copy.deepcopy(foreground_model.components)\n",
    "components[\"tt\"].remove(\"tSZ_and_CIB\")\n",
    "components[\"tt\"] += [\"tSZ\", \"cibc\", \"tSZxCIB\"]"
   ]
  },
  {
   "cell_type": "markdown",
   "id": "2d711277-a179-4f6e-be65-008641cef13e",
   "metadata": {
    "slideshow": {
     "slide_type": ""
    },
    "tags": []
   },
   "source": [
    "Here we define the plotting function. In the following plots, the dashed lines represent the absolute value of negative spectra."
   ]
  },
  {
   "cell_type": "code",
   "execution_count": null,
   "id": "891866ef-c35e-41da-befd-38a2fc2e8241",
   "metadata": {
    "slideshow": {
     "slide_type": ""
    },
    "tags": []
   },
   "outputs": [],
   "source": [
    "from itertools import product\n",
    "\n",
    "\n",
    "def plot_spectra(mode):\n",
    "    experiments = mflike.experiments\n",
    "    nexperiments = len(experiments)\n",
    "    fig, axes = plt.subplots(nexperiments, nexperiments, sharex=True, sharey=True, figsize=(10, 10))\n",
    "\n",
    "    for i, cross in enumerate(product(experiments, experiments)):\n",
    "        idx = (i % nexperiments, i // nexperiments)\n",
    "        ax = axes[idx]\n",
    "        if idx in zip(*np.triu_indices(nexperiments, k=1)):\n",
    "            fig.delaxes(ax)\n",
    "            continue\n",
    "\n",
    "        ax.plot(ell, fg_models[mode, \"all\", cross[0], cross[1]], color=\"k\")\n",
    "        for compo in components[mode]:\n",
    "            fg_model = fg_models[mode, compo, cross[0], cross[1]]\n",
    "            if np.any(fg_model < 0):\n",
    "                ax.plot(ell, np.abs(fg_model), ls=\"--\")\n",
    "            else:\n",
    "                ax.plot(ell, fg_model)\n",
    "\n",
    "        if mode != \"te\":\n",
    "            ax.plot(ell, dls_cmb[mode][ell], color=\"gray\")\n",
    "        else:\n",
    "            ax.plot(ell, np.abs(dls_cmb[mode][ell]), color=\"gray\", ls=\"--\")\n",
    "        title = f\"{cross[0].split('_')[-1]}x{cross[1].split('_')[-1]} GHz\"\n",
    "        ax.legend([], title=title)\n",
    "        ax.set(yscale=\"log\", ylim=(0.001, 10_000) if mode == \"tt\" else None)\n",
    "\n",
    "    comp_name = copy.deepcopy(components)\n",
    "    comp_name[\"tt\"] = [\"|tSZxCIB+CIBxtSZ|\" if n == \"tSZxCIB\" else n for n in comp_name[\"tt\"]]\n",
    "    for i in range(nexperiments):\n",
    "        axes[-1, i].set_xlabel(\"$\\ell$\")\n",
    "        axes[i, 0].set_ylabel(\"$D_\\ell$\")\n",
    "    fig.legend(\n",
    "        [\"all\"] + comp_name[mode],\n",
    "        title=mode.upper(),\n",
    "        labelcolor=\"linecolor\",\n",
    "        handlelength=0,\n",
    "        bbox_to_anchor=(0.6, 1),\n",
    "    )"
   ]
  },
  {
   "cell_type": "code",
   "execution_count": null,
   "id": "9e6a13f2-3447-41f2-8282-13dd083f9090",
   "metadata": {
    "slideshow": {
     "slide_type": ""
    },
    "tags": []
   },
   "outputs": [],
   "source": [
    "plot_spectra(\"tt\")"
   ]
  },
  {
   "cell_type": "markdown",
   "id": "30008fcf-48db-47c3-8107-c7d1fcbec9ea",
   "metadata": {
    "slideshow": {
     "slide_type": ""
    },
    "tags": []
   },
   "source": [
    "We can also plot the `ee` or `te` modes with the argument of the plotting function, to see the contribution from radio and dust components"
   ]
  },
  {
   "cell_type": "code",
   "execution_count": null,
   "id": "f606505e-cdd5-43c1-bce5-3658541e10b7",
   "metadata": {
    "slideshow": {
     "slide_type": ""
    },
    "tags": []
   },
   "outputs": [],
   "source": [
    "plot_spectra(\"ee\")"
   ]
  },
  {
   "cell_type": "code",
   "execution_count": null,
   "id": "63bf6b71-b573-4697-ad85-9004e00edd5d",
   "metadata": {
    "slideshow": {
     "slide_type": ""
    },
    "tags": []
   },
   "outputs": [],
   "source": [
    "plot_spectra(\"te\")"
   ]
  }
 ],
 "metadata": {
  "kernelspec": {
   "display_name": "Python 3 (ipykernel)",
   "language": "python",
   "name": "python3"
  },
  "language_info": {
   "codemirror_mode": {
    "name": "ipython",
    "version": 3
   },
   "file_extension": ".py",
   "mimetype": "text/x-python",
   "name": "python",
   "nbconvert_exporter": "python",
   "pygments_lexer": "ipython3",
   "version": "3.9.13"
  },
  "widgets": {
   "application/vnd.jupyter.widget-state+json": {
    "state": {},
    "version_major": 2,
    "version_minor": 0
   }
  }
 },
 "nbformat": 4,
 "nbformat_minor": 5
}
