{
 "cells": [
  {
   "cell_type": "code",
   "execution_count": null,
   "id": "34cfa477-c7d6-4a47-b698-2a2c634eddcd",
   "metadata": {
    "slideshow": {
     "slide_type": ""
    },
    "tags": [
     "hide-input"
    ]
   },
   "outputs": [],
   "source": [
    "import seaborn as sns\n",
    "\n",
    "sns.set_theme(\n",
    "    rc={\n",
    "        \"axes.spines.top\": False,\n",
    "        \"axes.spines.right\": False,\n",
    "        \"figure.autolayout\": True,\n",
    "        \"legend.frameon\": False,\n",
    "    },\n",
    "    style=\"ticks\",\n",
    ")"
   ]
  },
  {
   "cell_type": "markdown",
   "id": "6b126358-89b0-4766-8a19-180d5fe80a78",
   "metadata": {
    "slideshow": {
     "slide_type": ""
    },
    "tags": []
   },
   "source": [
    "# Fisher matrix"
   ]
  },
  {
   "cell_type": "markdown",
   "id": "61494c8a-a9d5-4950-92a7-c22dcd8c1978",
   "metadata": {
    "slideshow": {
     "slide_type": ""
    },
    "tags": []
   },
   "source": [
    "Let's start by getting the `MFLike` instance from the first [tutorial](tutorial_loading.ipynb)"
   ]
  },
  {
   "cell_type": "code",
   "execution_count": null,
   "id": "727a69c3-02b5-421d-a336-1a7980ec6385",
   "metadata": {
    "slideshow": {
     "slide_type": ""
    },
    "tags": [
     "remove-output"
    ]
   },
   "outputs": [],
   "source": [
    "%run tutorial_loading.ipynb"
   ]
  },
  {
   "cell_type": "markdown",
   "id": "2de3baed-3383-4f43-9dbe-da5f8914d9b2",
   "metadata": {
    "slideshow": {
     "slide_type": ""
    },
    "tags": []
   },
   "source": [
    "Even if we do not need priors to compute Fisher matrix, we need to fool `cobaya` in order to change parameter values. We set the prior values to &plusmn; 10% around the central value (or to a fixed window for parameters whose default is 0). "
   ]
  },
  {
   "cell_type": "code",
   "execution_count": null,
   "id": "43b78d59-8ff3-4720-9266-b43ea5e98446",
   "metadata": {
    "slideshow": {
     "slide_type": ""
    },
    "tags": []
   },
   "outputs": [],
   "source": [
    "def fake_priors(value):\n",
    "    if value == 0:\n",
    "        min, max = -0.5, +0.5\n",
    "    else:\n",
    "        min, max = np.array([0.9, 1.1]) * value\n",
    "    if value < 0:\n",
    "        min, max = max, min\n",
    "    return dict(min=min, max=max)\n",
    "\n",
    "\n",
    "sampled_params = cosmo_params | fg_params | nuisance_params\n",
    "sampled_params.update({k: dict(prior=fake_priors(v)) for k, v in sampled_params.items()})"
   ]
  },
  {
   "cell_type": "markdown",
   "id": "5869c6ff-4b0d-40eb-9649-314f936c123c",
   "metadata": {
    "slideshow": {
     "slide_type": ""
    },
    "tags": []
   },
   "source": [
    "Then we define a new model (after having close the previous one to release memory allocation) and\n",
    "get the `MFLike` likelihood\n",
    "\n",
    "We are setting low accuracy parameters for this section, since it would otherwise take much more time\n"
   ]
  },
  {
   "cell_type": "code",
   "execution_count": null,
   "id": "e96d303c-9234-4472-a940-0e10575f2d51",
   "metadata": {
    "slideshow": {
     "slide_type": ""
    },
    "tags": []
   },
   "outputs": [],
   "source": [
    "from cobaya.model import get_model\n",
    "\n",
    "info = {\n",
    "    \"params\": sampled_params,\n",
    "    \"likelihood\": mflike_config,\n",
    "    \"theory\": {\n",
    "        \"camb\": {\"extra_args\": {\"lens_potential_accuracy\": 1}},\n",
    "        \"mflike.BandpowerForeground\": None,\n",
    "    },\n",
    "    \"packages_path\": packages_path,\n",
    "}\n",
    "\n",
    "model = get_model(info)\n",
    "mflike = model.likelihood[\"mflike.TTTEEE\"]\n",
    "foreground_model = model.theory[\"mflike.BandpowerForeground\"]"
   ]
  },
  {
   "cell_type": "markdown",
   "id": "db9032cc-b02c-46b3-9fa9-2a470ab2b0f5",
   "metadata": {
    "slideshow": {
     "slide_type": ""
    },
    "tags": []
   },
   "source": [
    "Given the sampled parameters, we now set the defaults value of parameters in the same order as the\n",
    "`cobaya`'s one\n",
    "\n"
   ]
  },
  {
   "cell_type": "code",
   "execution_count": null,
   "id": "749bbc53-58f6-480c-ba2d-4731b6db6744",
   "metadata": {
    "slideshow": {
     "slide_type": ""
    },
    "tags": []
   },
   "outputs": [],
   "source": [
    "default_values = cosmo_params | fg_params | nuisance_params\n",
    "defaults = {k: default_values[k] for k in model.parameterization.sampled_params()}"
   ]
  },
  {
   "cell_type": "markdown",
   "id": "2521c615-536b-4ce8-aa0b-79728db3fd81",
   "metadata": {
    "slideshow": {
     "slide_type": ""
    },
    "tags": []
   },
   "source": [
    "and we define the list of Fisher parameters, removing from the list the parameters we don't want to perturb (for example, all the nuisance parameters + `Alens` and some temperature foreground values)"
   ]
  },
  {
   "cell_type": "code",
   "execution_count": null,
   "id": "9280106a-72c9-4f38-9f62-96798b42d86c",
   "metadata": {
    "slideshow": {
     "slide_type": ""
    },
    "tags": []
   },
   "outputs": [],
   "source": [
    "fisher_params = [\n",
    "    par for par in defaults if par not in [\"Alens\", \"T_d\", \"T_effd\"] + list(nuisance_params)\n",
    "]"
   ]
  },
  {
   "cell_type": "markdown",
   "id": "84671593-d589-4d04-acf5-265c8e8c2440",
   "metadata": {
    "slideshow": {
     "slide_type": ""
    },
    "tags": []
   },
   "source": [
    "For each parameter, we will compute the associated power spectra by slightly modifying the central\n",
    "value of the parameter (&plusmn;&epsilon;). The power spectra are taken from `mflike._get_power_spectra`\n",
    "given the nuisance parameters and we also need to recompute (if necessary) the theoritical\n",
    "$C_\\ell$s. The Fisher algorithm is the following (note that it will take its time, because of the large $\\ell$ range and the high accuracy computation of the spectra)"
   ]
  },
  {
   "cell_type": "code",
   "execution_count": null,
   "id": "19f5f5f1-91a9-4d61-a5bb-29951b3ce2ca",
   "metadata": {
    "slideshow": {
     "slide_type": ""
    },
    "tags": []
   },
   "outputs": [],
   "source": [
    "from tqdm.auto import tqdm\n",
    "\n",
    "deriv = {k: None for k in fisher_params}\n",
    "\n",
    "for p in (pbar := tqdm(fisher_params)):\n",
    "    pbar.set_description(f\"Processing '{p}' parameter\")\n",
    "\n",
    "    def _get_power_spectra(epsilon):\n",
    "        point = defaults.copy()\n",
    "        point.update({p: point[p] * (1 + epsilon) if point[p] != 0 else point[p] + epsilon})\n",
    "        model.logposterior(point)\n",
    "        fg_totals = foreground_model.get_fg_totals()\n",
    "        cl = model.theory[\"camb\"].get_Cl(ell_factor=True)\n",
    "        return mflike._get_power_spectra(cl, fg_totals, **point)\n",
    "\n",
    "    epsilon = 0.01\n",
    "    ps_minus = _get_power_spectra(-epsilon)\n",
    "    ps_plus = _get_power_spectra(+epsilon)\n",
    "    if defaults[p] != 0:\n",
    "        delta = (ps_plus - ps_minus) / (2 * epsilon * defaults[p])\n",
    "    else:\n",
    "        delta = (ps_plus - ps_minus) / (2 * epsilon)\n",
    "    if np.all(delta == 0):\n",
    "        print(\n",
    "            f\"WARNING: Sampling a parameter '{p}' that do not have \"\n",
    "            \"any effect on power spectra! You should remove it from \"\n",
    "            \"cobaya parameter dictionary.\"\n",
    "        )\n",
    "        fisher_params.remove(p)\n",
    "        continue\n",
    "    deriv[p] = delta\n",
    "\n",
    "nparams = len(fisher_params)\n",
    "fisher_matrix = np.empty((nparams, nparams))\n",
    "for i1, p1 in enumerate(fisher_params):\n",
    "    for i2, p2 in enumerate(fisher_params):\n",
    "        fisher_matrix[i1, i2] = deriv[p1] @ mflike.inv_cov @ deriv[p2]\n",
    "fisher_cov = np.linalg.inv(fisher_matrix)"
   ]
  },
  {
   "cell_type": "markdown",
   "id": "067a77fb-3ace-4f01-aa09-07597676eed3",
   "metadata": {
    "slideshow": {
     "slide_type": ""
    },
    "tags": []
   },
   "source": [
    "We can show the correlation matrix between parameters\n",
    "\n"
   ]
  },
  {
   "cell_type": "code",
   "execution_count": null,
   "id": "6e3f2b20-5240-4e65-afdf-f8c4a2d52ae1",
   "metadata": {
    "slideshow": {
     "slide_type": ""
    },
    "tags": []
   },
   "outputs": [],
   "source": [
    "import matplotlib.pyplot as plt\n",
    "\n",
    "cosmo_labels = dict(\n",
    "    cosmomc_theta=r\"\\theta_\\mathrm{MC}\",\n",
    "    As=r\"A_\\mathrm{s}\",\n",
    "    ns=r\"n_\\mathrm{s}\",\n",
    "    ombh2=r\"\\Omega_\\mathrm{b}h^2\",\n",
    "    omch2=r\"\\Omega_\\mathrm{c}h^2\",\n",
    "    tau=r\"\\tau_\\mathrm{reio}\",\n",
    ")\n",
    "labels = model.parameterization.labels() | cosmo_labels\n",
    "latex_names = [rf\"${labels[name]}$\" for name in fisher_params]\n",
    "\n",
    "fisher_sigmas = np.sqrt(np.diag(fisher_cov))\n",
    "norm = np.outer(fisher_sigmas, fisher_sigmas)\n",
    "fisher_corr = fisher_cov / norm\n",
    "\n",
    "fig, ax = plt.subplots(figsize=(10, 10))\n",
    "ind = np.triu_indices_from(fisher_corr)\n",
    "fisher_corr[ind] = np.nan\n",
    "im = ax.imshow(fisher_corr, cmap=\"RdBu\")\n",
    "ax.set_xticks(np.arange(nparams), latex_names, rotation=90)\n",
    "ax.set_yticks(np.arange(nparams), latex_names, rotation=0)\n",
    "fig.colorbar(im, shrink=0.5).set_label(\"correlation coefficient\")"
   ]
  },
  {
   "cell_type": "markdown",
   "id": "e86f9319-94b1-4c65-90e5-ff812d80c66b",
   "metadata": {
    "slideshow": {
     "slide_type": ""
    },
    "tags": []
   },
   "source": [
    "and the Fisher estimated noise"
   ]
  },
  {
   "cell_type": "code",
   "execution_count": null,
   "id": "1d9ab7cb-e045-424c-9562-e0a38e259138",
   "metadata": {
    "slideshow": {
     "slide_type": ""
    },
    "tags": [
     "hide-input"
    ]
   },
   "outputs": [],
   "source": [
    "# LaTeX expressions do not render properly with pydata-sphinx-theme.\n",
    "# It's long standing issue https://github.com/executablebooks/jupyter-book/issues/1826\n",
    "# with no real solution except hacky's one. Here we convert LaTeX name of parameters to MathML\n",
    "# equivalent and display the pandas dataframe with the styler class of pandas to render HTML code\n",
    "# You need to pip install latex2mathml or change index to latex_names variable\n",
    "# if you do not plan to generate documentation.\n",
    "import pandas as pd\n",
    "from latex2mathml.converter import convert\n",
    "\n",
    "(\n",
    "    pd.DataFrame(\n",
    "        [\n",
    "            [defaults[name], sigma, np.abs(defaults[name] / sigma)]\n",
    "            for name, sigma in zip(fisher_params, fisher_sigmas)\n",
    "        ],\n",
    "        columns=[\"value\", \"σ\", \"Fisher S/N\"],\n",
    "        index=map(convert, [rf\"{labels[name]}\" for name in fisher_params]),\n",
    "    )\n",
    "    .sort_values(\"Fisher S/N\", ascending=False)\n",
    "    .style.format(\"{:e}\", subset=[\"value\", \"σ\"])\n",
    ")"
   ]
  },
  {
   "cell_type": "markdown",
   "id": "a7d8390e-00bd-414f-a5ab-50076b05dd4e",
   "metadata": {
    "slideshow": {
     "slide_type": ""
    },
    "tags": []
   },
   "source": [
    "Let's show the Signal over Noise ratio graphically\n",
    "\n"
   ]
  },
  {
   "cell_type": "code",
   "execution_count": null,
   "id": "a9d2f236-e23e-4767-9e60-fcf5f750d872",
   "metadata": {
    "slideshow": {
     "slide_type": ""
    },
    "tags": []
   },
   "outputs": [],
   "source": [
    "fig, ax = plt.subplots(figsize=(10, 8))\n",
    "signal_over_noise = [\n",
    "    np.abs(defaults[name] / sigma) for name, sigma in zip(fisher_params, fisher_sigmas)\n",
    "]\n",
    "colors = [\"b\" if name in cosmo_params else \"r\" for name in fisher_params]\n",
    "ax.barh(np.arange(nparams), signal_over_noise, color=colors)\n",
    "ax.set(xscale=\"log\", xlabel=\"S/N\")\n",
    "ax.set_yticks(range(len(fisher_params)), latex_names);"
   ]
  },
  {
   "cell_type": "markdown",
   "id": "695c4ded-3e85-4055-8f2a-fc8dc00aca82",
   "metadata": {
    "slideshow": {
     "slide_type": ""
    },
    "tags": []
   },
   "source": [
    "It also works for TT, TE or EE mode even if you keep the default list of sampled parameters. It will\n",
    "only warn you about the fact that some parameters have no effect on power spectra and thus can be\n",
    "removed from the sampled parameter list.\n",
    "\n"
   ]
  }
 ],
 "metadata": {
  "kernelspec": {
   "display_name": "Python 3 (ipykernel)",
   "language": "python",
   "name": "python3"
  },
  "language_info": {
   "codemirror_mode": {
    "name": "ipython",
    "version": 3
   },
   "file_extension": ".py",
   "mimetype": "text/x-python",
   "name": "python",
   "nbconvert_exporter": "python",
   "pygments_lexer": "ipython3",
   "version": "3.10.14"
  },
  "widgets": {
   "application/vnd.jupyter.widget-state+json": {
    "state": {
     "09903a411f764ace86dcb04da8c08243": {
      "model_module": "@jupyter-widgets/base",
      "model_module_version": "2.0.0",
      "model_name": "LayoutModel",
      "state": {}
     },
     "17ca81dadcb44db8bfce55381f8a9f7c": {
      "model_module": "@jupyter-widgets/base",
      "model_module_version": "2.0.0",
      "model_name": "LayoutModel",
      "state": {}
     },
     "186fb2e2e8154930bc3e7473c9a54a7a": {
      "model_module": "@jupyter-widgets/controls",
      "model_module_version": "2.0.0",
      "model_name": "FloatProgressModel",
      "state": {
       "bar_style": "success",
       "layout": "IPY_MODEL_7c6969290f4d4bfdb6fdbf7fd41d2b6c",
       "max": 25,
       "style": "IPY_MODEL_5bdc1e8b6bfa46aca9889a71f23c001c",
       "value": 25
      }
     },
     "1ccc01e5a60842fcbbb3bbd2aa8fd063": {
      "model_module": "@jupyter-widgets/base",
      "model_module_version": "2.0.0",
      "model_name": "LayoutModel",
      "state": {}
     },
     "33b449e968674e1eb5a6a09466f666f9": {
      "model_module": "@jupyter-widgets/controls",
      "model_module_version": "2.0.0",
      "model_name": "HBoxModel",
      "state": {
       "children": [
        "IPY_MODEL_fd7c7ab7929b4212a9cc5e3e555b171c",
        "IPY_MODEL_186fb2e2e8154930bc3e7473c9a54a7a",
        "IPY_MODEL_af3278a2b18b49748e997a583719b209"
       ],
       "layout": "IPY_MODEL_82f6a65289754a22b6853a8ac9ae8b2b"
      }
     },
     "362606dba54c461496ea58a8bdeb8d01": {
      "model_module": "@jupyter-widgets/controls",
      "model_module_version": "2.0.0",
      "model_name": "HTMLModel",
      "state": {
       "layout": "IPY_MODEL_9510b34637824ae3a198249aee094c98",
       "style": "IPY_MODEL_d9bd2a774c5c402ba629539975e9202d",
       "value": " 25/25 [00:42&lt;00:00,  3.57it/s]"
      }
     },
     "46a8dbaa0b6d46a8988e44a7b9c541e9": {
      "model_module": "@jupyter-widgets/controls",
      "model_module_version": "2.0.0",
      "model_name": "HTMLStyleModel",
      "state": {
       "description_width": "",
       "font_size": null,
       "text_color": null
      }
     },
     "5bdc1e8b6bfa46aca9889a71f23c001c": {
      "model_module": "@jupyter-widgets/controls",
      "model_module_version": "2.0.0",
      "model_name": "ProgressStyleModel",
      "state": {
       "description_width": ""
      }
     },
     "5e9f820a68c140f093216a90da88ba5c": {
      "model_module": "@jupyter-widgets/base",
      "model_module_version": "2.0.0",
      "model_name": "LayoutModel",
      "state": {}
     },
     "60612c6ce10c488e9fd6288de4e876fe": {
      "model_module": "@jupyter-widgets/controls",
      "model_module_version": "2.0.0",
      "model_name": "HTMLModel",
      "state": {
       "layout": "IPY_MODEL_17ca81dadcb44db8bfce55381f8a9f7c",
       "style": "IPY_MODEL_78f93ff6ba52488e91451b162f818772",
       "value": "Processing &#x27;alpha_p&#x27; parameter: 100%"
      }
     },
     "63ed171a530b4312b9205adcc258b390": {
      "model_module": "@jupyter-widgets/base",
      "model_module_version": "2.0.0",
      "model_name": "LayoutModel",
      "state": {}
     },
     "78f93ff6ba52488e91451b162f818772": {
      "model_module": "@jupyter-widgets/controls",
      "model_module_version": "2.0.0",
      "model_name": "HTMLStyleModel",
      "state": {
       "description_width": "",
       "font_size": null,
       "text_color": null
      }
     },
     "7c6969290f4d4bfdb6fdbf7fd41d2b6c": {
      "model_module": "@jupyter-widgets/base",
      "model_module_version": "2.0.0",
      "model_name": "LayoutModel",
      "state": {}
     },
     "82f6a65289754a22b6853a8ac9ae8b2b": {
      "model_module": "@jupyter-widgets/base",
      "model_module_version": "2.0.0",
      "model_name": "LayoutModel",
      "state": {}
     },
     "9510b34637824ae3a198249aee094c98": {
      "model_module": "@jupyter-widgets/base",
      "model_module_version": "2.0.0",
      "model_name": "LayoutModel",
      "state": {}
     },
     "a90ddce1e0cd4113860bcd6b5287fc21": {
      "model_module": "@jupyter-widgets/controls",
      "model_module_version": "2.0.0",
      "model_name": "HTMLStyleModel",
      "state": {
       "description_width": "",
       "font_size": null,
       "text_color": null
      }
     },
     "af3278a2b18b49748e997a583719b209": {
      "model_module": "@jupyter-widgets/controls",
      "model_module_version": "2.0.0",
      "model_name": "HTMLModel",
      "state": {
       "layout": "IPY_MODEL_1ccc01e5a60842fcbbb3bbd2aa8fd063",
       "style": "IPY_MODEL_a90ddce1e0cd4113860bcd6b5287fc21",
       "value": " 25/25 [00:43&lt;00:00,  2.80it/s]"
      }
     },
     "d9bd2a774c5c402ba629539975e9202d": {
      "model_module": "@jupyter-widgets/controls",
      "model_module_version": "2.0.0",
      "model_name": "HTMLStyleModel",
      "state": {
       "description_width": "",
       "font_size": null,
       "text_color": null
      }
     },
     "e3bd117d620a4ae5b1a2307add7ff37c": {
      "model_module": "@jupyter-widgets/controls",
      "model_module_version": "2.0.0",
      "model_name": "FloatProgressModel",
      "state": {
       "bar_style": "success",
       "layout": "IPY_MODEL_09903a411f764ace86dcb04da8c08243",
       "max": 25,
       "style": "IPY_MODEL_f64fc95bbe2c47b5b06af29587fdfef1",
       "value": 25
      }
     },
     "f64fc95bbe2c47b5b06af29587fdfef1": {
      "model_module": "@jupyter-widgets/controls",
      "model_module_version": "2.0.0",
      "model_name": "ProgressStyleModel",
      "state": {
       "description_width": ""
      }
     },
     "fb39736aae7b48fab607d84f2d1e32ec": {
      "model_module": "@jupyter-widgets/controls",
      "model_module_version": "2.0.0",
      "model_name": "HBoxModel",
      "state": {
       "children": [
        "IPY_MODEL_60612c6ce10c488e9fd6288de4e876fe",
        "IPY_MODEL_e3bd117d620a4ae5b1a2307add7ff37c",
        "IPY_MODEL_362606dba54c461496ea58a8bdeb8d01"
       ],
       "layout": "IPY_MODEL_63ed171a530b4312b9205adcc258b390"
      }
     },
     "fd7c7ab7929b4212a9cc5e3e555b171c": {
      "model_module": "@jupyter-widgets/controls",
      "model_module_version": "2.0.0",
      "model_name": "HTMLModel",
      "state": {
       "layout": "IPY_MODEL_5e9f820a68c140f093216a90da88ba5c",
       "style": "IPY_MODEL_46a8dbaa0b6d46a8988e44a7b9c541e9",
       "value": "Processing &#x27;alpha_p&#x27; parameter: 100%"
      }
     }
    },
    "version_major": 2,
    "version_minor": 0
   }
  }
 },
 "nbformat": 4,
 "nbformat_minor": 5
}
