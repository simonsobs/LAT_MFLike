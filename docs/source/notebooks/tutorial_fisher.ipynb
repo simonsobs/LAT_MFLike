{
 "cells": [
  {
   "cell_type": "code",
   "execution_count": 3,
   "id": "34cfa477-c7d6-4a47-b698-2a2c634eddcd",
   "metadata": {
    "editable": true,
    "slideshow": {
     "slide_type": ""
    },
    "tags": [
     "hide-input"
    ]
   },
   "outputs": [],
   "source": [
    "import seaborn as sns\n",
    "\n",
    "sns.set_theme(\n",
    "    rc={\"axes.spines.top\": False, \"axes.spines.right\": False, \"figure.autolayout\": True},\n",
    "    style=\"ticks\",\n",
    ")"
   ]
  },
  {
   "cell_type": "markdown",
   "id": "6b126358-89b0-4766-8a19-180d5fe80a78",
   "metadata": {
    "editable": true,
    "slideshow": {
     "slide_type": ""
    },
    "tags": []
   },
   "source": [
    "# Fisher matrix"
   ]
  },
  {
   "cell_type": "markdown",
   "id": "61494c8a-a9d5-4950-92a7-c22dcd8c1978",
   "metadata": {
    "editable": true,
    "slideshow": {
     "slide_type": ""
    },
    "tags": []
   },
   "source": [
    "Let's start by getting the `MFLike` instance from the first [tutorial](tutorial_loading.ipynb)"
   ]
  },
  {
   "cell_type": "code",
   "execution_count": 4,
   "id": "727a69c3-02b5-421d-a336-1a7980ec6385",
   "metadata": {
    "editable": true,
    "slideshow": {
     "slide_type": ""
    },
    "tags": [
     "remove-output"
    ]
   },
   "outputs": [
    {
     "name": "stdout",
     "output_type": "stream",
     "text": [
      "     Numpy : 1.24.3\n",
      "Matplotlib : 3.8.0\n",
      "      CAMB : 1.5.7\n",
      "    Cobaya : 3.5.1\n",
      "[install] Installing external packages at 'C:\\Users\\micro\\AppData\\Local\\Temp\\LAT_packages'\n",
      "\n",
      "================================================================================\n",
      "likelihood:mflike.MFLike\n",
      "================================================================================\n",
      "\n",
      "[install] Checking if dependencies have already been installed...\n",
      "[install] External dependencies for this component already installed.\n",
      "[install] Doing nothing.\n",
      "\n",
      "================================================================================\n",
      "* Summary * \n",
      "================================================================================\n",
      "\n",
      "[install] All requested components' dependencies correctly installed at C:\\Users\\micro\\AppData\\Local\\Temp\\LAT_packages\n",
      "[camb] `camb` module loaded successfully from C:\\Work\\Dist\\git\\camb\\camb\n",
      "[mflike.mflike] Number of bins used: 3087\n",
      "[mflike.mflike] Initialized!\n"
     ]
    }
   ],
   "source": [
    "%run tutorial_loading.ipynb"
   ]
  },
  {
   "cell_type": "markdown",
   "id": "2de3baed-3383-4f43-9dbe-da5f8914d9b2",
   "metadata": {
    "editable": true,
    "slideshow": {
     "slide_type": ""
    },
    "tags": []
   },
   "source": [
    "Even if we do not need priors to compute Fisher matrix, we need to fool `cobaya` in order to change parameter values. We set the prior values to &plusmn; 10% around the central value (or to a fixed window for parameters whose default is 0). "
   ]
  },
  {
   "cell_type": "code",
   "execution_count": 5,
   "id": "43b78d59-8ff3-4720-9266-b43ea5e98446",
   "metadata": {
    "editable": true,
    "slideshow": {
     "slide_type": ""
    },
    "tags": []
   },
   "outputs": [],
   "source": [
    "def fake_priors(value):\n",
    "    if value == 0:\n",
    "        min, max = -0.5, +0.5\n",
    "    else:\n",
    "        min, max = np.array([0.9, 1.1]) * value\n",
    "    if value < 0:\n",
    "        min, max = max, min\n",
    "    return dict(min=min, max=max)\n",
    "\n",
    "\n",
    "sampled_params = cosmo_params | fg_params | nuisance_params\n",
    "sampled_params.update({k: dict(prior=fake_priors(v)) for k, v in sampled_params.items()})"
   ]
  },
  {
   "cell_type": "markdown",
   "id": "5869c6ff-4b0d-40eb-9649-314f936c123c",
   "metadata": {
    "editable": true,
    "slideshow": {
     "slide_type": ""
    },
    "tags": []
   },
   "source": [
    "Then we define a new model (after having close the previous one to release memory allocation) and\n",
    "get the `MFLike` likelihood\n",
    "\n",
    "We are setting low accuracy parameters for this section, since it would otherwise take much more time\n"
   ]
  },
  {
   "cell_type": "code",
   "execution_count": 7,
   "id": "e96d303c-9234-4472-a940-0e10575f2d51",
   "metadata": {
    "editable": true,
    "slideshow": {
     "slide_type": ""
    },
    "tags": []
   },
   "outputs": [
    {
     "name": "stdout",
     "output_type": "stream",
     "text": [
      "[camb] `camb` module loaded successfully from C:\\Work\\Dist\\git\\camb\\camb\n",
      "[mflike.mflike] Number of bins used: 3087\n",
      "[mflike.mflike] Initialized!\n"
     ]
    }
   ],
   "source": [
    "from cobaya.model import get_model\n",
    "\n",
    "info = {\n",
    "    \"params\": sampled_params,\n",
    "    \"likelihood\": mflike_config,\n",
    "    \"theory\": {\"camb\": {\"extra_args\": {\"lens_potential_accuracy\": 1}},\n",
    "               \"mflike.BandpowerForeground\": None},\n",
    "    \"packages_path\": packages_path,\n",
    "}\n",
    "\n",
    "model = get_model(info)\n",
    "mflike = model.likelihood[\"mflike.TTTEEE\"]\n",
    "foreground_model = model.theory[\"mflike.BandpowerForeground\"]"
   ]
  },
  {
   "cell_type": "markdown",
   "id": "db9032cc-b02c-46b3-9fa9-2a470ab2b0f5",
   "metadata": {
    "editable": true,
    "slideshow": {
     "slide_type": ""
    },
    "tags": []
   },
   "source": [
    "Given the sampled parameters, we now set the defaults value of parameters in the same order as the\n",
    "`cobaya`'s one\n",
    "\n"
   ]
  },
  {
   "cell_type": "code",
   "execution_count": 10,
   "id": "749bbc53-58f6-480c-ba2d-4731b6db6744",
   "metadata": {
    "editable": true,
    "slideshow": {
     "slide_type": ""
    },
    "tags": []
   },
   "outputs": [],
   "source": [
    "default_values = cosmo_params | fg_params | nuisance_params\n",
    "defaults = {k: default_values[k] for k in model.parameterization.sampled_params()}"
   ]
  },
  {
   "cell_type": "markdown",
   "id": "2521c615-536b-4ce8-aa0b-79728db3fd81",
   "metadata": {
    "editable": true,
    "slideshow": {
     "slide_type": ""
    },
    "tags": []
   },
   "source": [
    "and we define the list of Fisher parameters, removing from the list the parameters we don't want to perturb (for example, all the nuisance parameters + `Alens` and some temperature foreground values)"
   ]
  },
  {
   "cell_type": "code",
   "execution_count": 11,
   "id": "9280106a-72c9-4f38-9f62-96798b42d86c",
   "metadata": {
    "editable": true,
    "slideshow": {
     "slide_type": ""
    },
    "tags": []
   },
   "outputs": [],
   "source": [
    "fisher_params = [\n",
    "    par for par in defaults if par not in [\"Alens\", \"T_d\", \"T_effd\"] + list(nuisance_params)\n",
    "]"
   ]
  },
  {
   "cell_type": "markdown",
   "id": "84671593-d589-4d04-acf5-265c8e8c2440",
   "metadata": {
    "editable": true,
    "slideshow": {
     "slide_type": ""
    },
    "tags": []
   },
   "source": [
    "For each parameter, we will compute the associated power spectra by slightly modifying the central\n",
    "value of the parameter (&plusmn;&epsilon;). The power spectra are taken from `mflike._get_power_spectra`\n",
    "given the nuisance parameters and we also need to recompute (if necessary) the theoritical\n",
    "$C_\\ell$s. The Fisher algorithm is the following (note that it will take its time, because of the large $\\ell$ range and the high accuracy computation of the spectra)"
   ]
  },
  {
   "cell_type": "code",
   "execution_count": 12,
   "id": "19f5f5f1-91a9-4d61-a5bb-29951b3ce2ca",
   "metadata": {
    "editable": true,
    "slideshow": {
     "slide_type": ""
    },
    "tags": []
   },
   "outputs": [
    {
     "data": {
      "application/vnd.jupyter.widget-view+json": {
       "model_id": "2347455c6a5b478fb39eeeedd9c35f98",
       "version_major": 2,
       "version_minor": 0
      },
      "text/plain": [
       "  0%|          | 0/26 [00:00<?, ?it/s]"
      ]
     },
     "metadata": {},
     "output_type": "display_data"
    }
   ],
   "source": [
    "from tqdm.auto import tqdm\n",
    "\n",
    "deriv = {k: None for k in fisher_params}\n",
    "\n",
    "for p in (pbar := tqdm(fisher_params)):\n",
    "    pbar.set_description(f\"Processing '{p}' parameter\")\n",
    "\n",
    "    def _get_power_spectra(epsilon):\n",
    "        point = defaults.copy()\n",
    "        point.update({p: point[p] * (1 + epsilon) if point[p] != 0 else point[p] + epsilon})\n",
    "        model.logposterior(point)\n",
    "        fg_totals = foreground_model.get_fg_totals()\n",
    "        cl = model.theory[\"camb\"].get_Cl(ell_factor=True)\n",
    "        return mflike._get_power_spectra(cl, fg_totals, **point)\n",
    "\n",
    "    epsilon = 0.01\n",
    "    ps_minus = _get_power_spectra(-epsilon)\n",
    "    ps_plus = _get_power_spectra(+epsilon)\n",
    "    if defaults[p] != 0:\n",
    "        delta = (ps_plus - ps_minus) / (2 * epsilon * defaults[p])\n",
    "    else:\n",
    "        delta = (ps_plus - ps_minus) / (2 * epsilon)\n",
    "    if np.all(delta == 0):\n",
    "        print(\n",
    "            f\"WARNING: Sampling a parameter '{p}' that do not have \"\n",
    "            \"any effect on power spectra! You should remove it from \"\n",
    "            \"cobaya parameter dictionary.\"\n",
    "        )\n",
    "        fisher_params.remove(p)\n",
    "        continue\n",
    "    deriv[p] = delta\n",
    "\n",
    "nparams = len(fisher_params)\n",
    "fisher_matrix = np.empty((nparams, nparams))\n",
    "for i1, p1 in enumerate(fisher_params):\n",
    "    for i2, p2 in enumerate(fisher_params):\n",
    "        fisher_matrix[i1, i2] = deriv[p1] @ mflike.inv_cov @ deriv[p2]\n",
    "fisher_cov = np.linalg.inv(fisher_matrix)"
   ]
  },
  {
   "cell_type": "markdown",
   "id": "067a77fb-3ace-4f01-aa09-07597676eed3",
   "metadata": {
    "editable": true,
    "slideshow": {
     "slide_type": ""
    },
    "tags": []
   },
   "source": [
    "We can show the correlation matrix between parameters\n",
    "\n"
   ]
  },
  {
   "cell_type": "code",
   "execution_count": 13,
   "id": "6e3f2b20-5240-4e65-afdf-f8c4a2d52ae1",
   "metadata": {
    "editable": true,
    "slideshow": {
     "slide_type": ""
    },
    "tags": []
   },
   "outputs": [
    {
     "data": {
      "image/png": "[encoded data removed]",
      "text/plain": [
       "<Figure size 1000x1000 with 2 Axes>"
      ]
     },
     "metadata": {},
     "output_type": "display_data"
    }
   ],
   "source": [
    "import matplotlib.pyplot as plt\n",
    "\n",
    "cosmo_labels = dict(\n",
    "    cosmomc_theta=r\"\\theta_\\mathrm{MC}\",\n",
    "    As=r\"A_\\mathrm{s}\",\n",
    "    ns=r\"n_\\mathrm{s}\",\n",
    "    ombh2=r\"\\Omega_\\mathrm{b}h^2\",\n",
    "    omch2=r\"\\Omega_\\mathrm{c}h^2\",\n",
    "    tau=r\"\\tau_\\mathrm{reio}\",\n",
    ")\n",
    "labels = model.parameterization.labels() | cosmo_labels\n",
    "latex_names = [rf\"${labels[name]}$\" for name in fisher_params]\n",
    "\n",
    "fisher_sigmas = np.sqrt(np.diag(fisher_cov))\n",
    "norm = np.outer(fisher_sigmas, fisher_sigmas)\n",
    "fisher_corr = fisher_cov / norm\n",
    "\n",
    "fig, ax = plt.subplots(figsize=(10, 10))\n",
    "ind = np.triu_indices_from(fisher_corr)\n",
    "fisher_corr[ind] = np.nan\n",
    "im = ax.imshow(fisher_corr, cmap=\"RdBu\")\n",
    "ax.set_xticks(np.arange(nparams), latex_names, rotation=90)\n",
    "ax.set_yticks(np.arange(nparams), latex_names, rotation=0)\n",
    "fig.colorbar(im, shrink=0.5).set_label(\"correlation coefficient\")"
   ]
  },
  {
   "cell_type": "markdown",
   "id": "e86f9319-94b1-4c65-90e5-ff812d80c66b",
   "metadata": {
    "editable": true,
    "slideshow": {
     "slide_type": ""
    },
    "tags": []
   },
   "source": [
    "and the Fisher estimated noise"
   ]
  },
  {
   "cell_type": "code",
   "execution_count": 14,
   "id": "1d9ab7cb-e045-424c-9562-e0a38e259138",
   "metadata": {
    "editable": true,
    "slideshow": {
     "slide_type": ""
    },
    "tags": [
     "hide-input"
    ]
   },
   "outputs": [
    {
     "data": {
      "text/html": [
       "<style type=\"text/css\">\n",
       "</style>\n",
       "<table id=\"T_8eda3\">\n",
       "  <thead>\n",
       "    <tr>\n",
       "      <th class=\"blank level0\" >&nbsp;</th>\n",
       "      <th id=\"T_8eda3_level0_col0\" class=\"col_heading level0 col0\" >value</th>\n",
       "      <th id=\"T_8eda3_level0_col1\" class=\"col_heading level0 col1\" >σ</th>\n",
       "      <th id=\"T_8eda3_level0_col2\" class=\"col_heading level0 col2\" >Fisher S/N</th>\n",
       "    </tr>\n",
       "  </thead>\n",
       "  <tbody>\n",
       "    <tr>\n",
       "      <th id=\"T_8eda3_level0_row0\" class=\"row_heading level0 row0\" ><math xmlns=\"http://www.w3.org/1998/Math/MathML\" display=\"inline\"><mrow><msub><mi>&#x003B8;</mi><mrow><mi mathvariant=\"normal\">M</mi><mi mathvariant=\"normal\">C</mi></mrow></msub></mrow></math></th>\n",
       "      <td id=\"T_8eda3_row0_col0\" class=\"data row0 col0\" >1.040920e-02</td>\n",
       "      <td id=\"T_8eda3_row0_col1\" class=\"data row0 col1\" >1.405784e-06</td>\n",
       "      <td id=\"T_8eda3_row0_col2\" class=\"data row0 col2\" >7404.553659</td>\n",
       "    </tr>\n",
       "    <tr>\n",
       "      <th id=\"T_8eda3_level0_row1\" class=\"row_heading level0 row1\" ><math xmlns=\"http://www.w3.org/1998/Math/MathML\" display=\"inline\"><mrow><msub><mi>&#x003A9;</mi><mi>&#x00062;</mi></msub><msup><mi>h</mi><mn>2</mn></msup></mrow></math></th>\n",
       "      <td id=\"T_8eda3_row1_col0\" class=\"data row1 col0\" >2.237000e-02</td>\n",
       "      <td id=\"T_8eda3_row1_col1\" class=\"data row1 col1\" >6.408286e-05</td>\n",
       "      <td id=\"T_8eda3_row1_col2\" class=\"data row1 col2\" >349.079325</td>\n",
       "    </tr>\n",
       "    <tr>\n",
       "      <th id=\"T_8eda3_level0_row2\" class=\"row_heading level0 row2\" ><math xmlns=\"http://www.w3.org/1998/Math/MathML\" display=\"inline\"><mrow><msub><mi>n</mi><mi>&#x00073;</mi></msub></mrow></math></th>\n",
       "      <td id=\"T_8eda3_row2_col0\" class=\"data row2 col0\" >9.649000e-01</td>\n",
       "      <td id=\"T_8eda3_row2_col1\" class=\"data row2 col1\" >3.217733e-03</td>\n",
       "      <td id=\"T_8eda3_row2_col2\" class=\"data row2 col2\" >299.869514</td>\n",
       "    </tr>\n",
       "    <tr>\n",
       "      <th id=\"T_8eda3_level0_row3\" class=\"row_heading level0 row3\" ><math xmlns=\"http://www.w3.org/1998/Math/MathML\" display=\"inline\"><mrow><msub><mi>&#x003B2;</mi><mi>p</mi></msub></mrow></math></th>\n",
       "      <td id=\"T_8eda3_row3_col0\" class=\"data row3 col0\" >2.200000e+00</td>\n",
       "      <td id=\"T_8eda3_row3_col1\" class=\"data row3 col1\" >1.226949e-02</td>\n",
       "      <td id=\"T_8eda3_row3_col2\" class=\"data row3 col2\" >179.306622</td>\n",
       "    </tr>\n",
       "    <tr>\n",
       "      <th id=\"T_8eda3_level0_row4\" class=\"row_heading level0 row4\" ><math xmlns=\"http://www.w3.org/1998/Math/MathML\" display=\"inline\"><mrow><msub><mi>&#x003B2;</mi><mi>s</mi></msub></mrow></math></th>\n",
       "      <td id=\"T_8eda3_row4_col0\" class=\"data row4 col0\" >-2.500000e+00</td>\n",
       "      <td id=\"T_8eda3_row4_col1\" class=\"data row4 col1\" >1.653964e-02</td>\n",
       "      <td id=\"T_8eda3_row4_col2\" class=\"data row4 col2\" >151.151996</td>\n",
       "    </tr>\n",
       "    <tr>\n",
       "      <th id=\"T_8eda3_level0_row5\" class=\"row_heading level0 row5\" ><math xmlns=\"http://www.w3.org/1998/Math/MathML\" display=\"inline\"><mrow><msub><mi>&#x003A9;</mi><mi>&#x00063;</mi></msub><msup><mi>h</mi><mn>2</mn></msup></mrow></math></th>\n",
       "      <td id=\"T_8eda3_row5_col0\" class=\"data row5 col0\" >1.200000e-01</td>\n",
       "      <td id=\"T_8eda3_row5_col1\" class=\"data row5 col1\" >1.104581e-03</td>\n",
       "      <td id=\"T_8eda3_row5_col2\" class=\"data row5 col2\" >108.638462</td>\n",
       "    </tr>\n",
       "    <tr>\n",
       "      <th id=\"T_8eda3_level0_row6\" class=\"row_heading level0 row6\" ><math xmlns=\"http://www.w3.org/1998/Math/MathML\" display=\"inline\"><mrow><msub><mi>&#x003B1;</mi><mi>s</mi></msub></mrow></math></th>\n",
       "      <td id=\"T_8eda3_row6_col0\" class=\"data row6 col0\" >1.000000e+00</td>\n",
       "      <td id=\"T_8eda3_row6_col1\" class=\"data row6 col1\" >9.758260e-03</td>\n",
       "      <td id=\"T_8eda3_row6_col2\" class=\"data row6 col2\" >102.477290</td>\n",
       "    </tr>\n",
       "    <tr>\n",
       "      <th id=\"T_8eda3_level0_row7\" class=\"row_heading level0 row7\" ><math xmlns=\"http://www.w3.org/1998/Math/MathML\" display=\"inline\"><mrow><msub><mi>&#x003B1;</mi><mi>p</mi></msub></mrow></math></th>\n",
       "      <td id=\"T_8eda3_row7_col0\" class=\"data row7 col0\" >1.000000e+00</td>\n",
       "      <td id=\"T_8eda3_row7_col1\" class=\"data row7 col1\" >1.849340e-02</td>\n",
       "      <td id=\"T_8eda3_row7_col2\" class=\"data row7 col2\" >54.073333</td>\n",
       "    </tr>\n",
       "    <tr>\n",
       "      <th id=\"T_8eda3_level0_row8\" class=\"row_heading level0 row8\" ><math xmlns=\"http://www.w3.org/1998/Math/MathML\" display=\"inline\"><mrow><msub><mi>A</mi><mi>&#x00073;</mi></msub></mrow></math></th>\n",
       "      <td id=\"T_8eda3_row8_col0\" class=\"data row8 col0\" >2.098903e-09</td>\n",
       "      <td id=\"T_8eda3_row8_col1\" class=\"data row8 col1\" >3.968838e-11</td>\n",
       "      <td id=\"T_8eda3_row8_col2\" class=\"data row8 col2\" >52.884576</td>\n",
       "    </tr>\n",
       "    <tr>\n",
       "      <th id=\"T_8eda3_level0_row9\" class=\"row_heading level0 row9\" ><math xmlns=\"http://www.w3.org/1998/Math/MathML\" display=\"inline\"><mrow><msub><mi>&#x003B2;</mi><mi>c</mi></msub></mrow></math></th>\n",
       "      <td id=\"T_8eda3_row9_col0\" class=\"data row9 col0\" >2.200000e+00</td>\n",
       "      <td id=\"T_8eda3_row9_col1\" class=\"data row9 col1\" >4.474972e-02</td>\n",
       "      <td id=\"T_8eda3_row9_col2\" class=\"data row9 col2\" >49.162314</td>\n",
       "    </tr>\n",
       "    <tr>\n",
       "      <th id=\"T_8eda3_level0_row10\" class=\"row_heading level0 row10\" ><math xmlns=\"http://www.w3.org/1998/Math/MathML\" display=\"inline\"><mrow><msub><mi>a</mi><mi>s</mi></msub></mrow></math></th>\n",
       "      <td id=\"T_8eda3_row10_col0\" class=\"data row10 col0\" >3.100000e+00</td>\n",
       "      <td id=\"T_8eda3_row10_col1\" class=\"data row10 col1\" >8.962352e-02</td>\n",
       "      <td id=\"T_8eda3_row10_col2\" class=\"data row10 col2\" >34.589136</td>\n",
       "    </tr>\n",
       "    <tr>\n",
       "      <th id=\"T_8eda3_level0_row11\" class=\"row_heading level0 row11\" ><math xmlns=\"http://www.w3.org/1998/Math/MathML\" display=\"inline\"><mrow><msub><mi>&#x003B2;</mi><mrow><mi mathvariant=\"normal\">d</mi><mi mathvariant=\"normal\">u</mi><mi mathvariant=\"normal\">s</mi><mi mathvariant=\"normal\">t</mi></mrow></msub></mrow></math></th>\n",
       "      <td id=\"T_8eda3_row11_col0\" class=\"data row11 col0\" >1.500000e+00</td>\n",
       "      <td id=\"T_8eda3_row11_col1\" class=\"data row11 col1\" >6.570298e-02</td>\n",
       "      <td id=\"T_8eda3_row11_col2\" class=\"data row11 col2\" >22.830015</td>\n",
       "    </tr>\n",
       "    <tr>\n",
       "      <th id=\"T_8eda3_level0_row12\" class=\"row_heading level0 row12\" ><math xmlns=\"http://www.w3.org/1998/Math/MathML\" display=\"inline\"><mrow><msub><mi>a</mi><mrow><mi mathvariant=\"normal\">t</mi><mi mathvariant=\"normal\">S</mi><mi mathvariant=\"normal\">Z</mi></mrow></msub></mrow></math></th>\n",
       "      <td id=\"T_8eda3_row12_col0\" class=\"data row12 col0\" >3.300000e+00</td>\n",
       "      <td id=\"T_8eda3_row12_col1\" class=\"data row12 col1\" >1.515281e-01</td>\n",
       "      <td id=\"T_8eda3_row12_col2\" class=\"data row12 col2\" >21.778140</td>\n",
       "    </tr>\n",
       "    <tr>\n",
       "      <th id=\"T_8eda3_level0_row13\" class=\"row_heading level0 row13\" ><math xmlns=\"http://www.w3.org/1998/Math/MathML\" display=\"inline\"><mrow><msubsup><mi>a</mi><mrow><mi mathvariant=\"normal\">d</mi><mi mathvariant=\"normal\">u</mi><mi mathvariant=\"normal\">s</mi><mi mathvariant=\"normal\">t</mi></mrow><mrow><mi mathvariant=\"normal\">E</mi><mi mathvariant=\"normal\">E</mi></mrow></msubsup></mrow></math></th>\n",
       "      <td id=\"T_8eda3_row13_col0\" class=\"data row13 col0\" >1.000000e-01</td>\n",
       "      <td id=\"T_8eda3_row13_col1\" class=\"data row13 col1\" >6.499191e-03</td>\n",
       "      <td id=\"T_8eda3_row13_col2\" class=\"data row13 col2\" >15.386530</td>\n",
       "    </tr>\n",
       "    <tr>\n",
       "      <th id=\"T_8eda3_level0_row14\" class=\"row_heading level0 row14\" ><math xmlns=\"http://www.w3.org/1998/Math/MathML\" display=\"inline\"><mrow><msub><mi>a</mi><mi>p</mi></msub></mrow></math></th>\n",
       "      <td id=\"T_8eda3_row14_col0\" class=\"data row14 col0\" >6.900000e+00</td>\n",
       "      <td id=\"T_8eda3_row14_col1\" class=\"data row14 col1\" >4.769117e-01</td>\n",
       "      <td id=\"T_8eda3_row14_col2\" class=\"data row14 col2\" >14.468087</td>\n",
       "    </tr>\n",
       "    <tr>\n",
       "      <th id=\"T_8eda3_level0_row15\" class=\"row_heading level0 row15\" ><math xmlns=\"http://www.w3.org/1998/Math/MathML\" display=\"inline\"><mrow><msub><mi>&#x003B1;</mi><mrow><mrow><mi mathvariant=\"normal\">d</mi><mi mathvariant=\"normal\">u</mi><mi mathvariant=\"normal\">s</mi><mi mathvariant=\"normal\">t</mi></mrow><mo>&#x0002C;</mo><mi>E</mi></mrow></msub></mrow></math></th>\n",
       "      <td id=\"T_8eda3_row15_col0\" class=\"data row15 col0\" >-4.000000e-01</td>\n",
       "      <td id=\"T_8eda3_row15_col1\" class=\"data row15 col1\" >2.818837e-02</td>\n",
       "      <td id=\"T_8eda3_row15_col2\" class=\"data row15 col2\" >14.190251</td>\n",
       "    </tr>\n",
       "    <tr>\n",
       "      <th id=\"T_8eda3_level0_row16\" class=\"row_heading level0 row16\" ><math xmlns=\"http://www.w3.org/1998/Math/MathML\" display=\"inline\"><mrow><msubsup><mi>a</mi><mrow><mi mathvariant=\"normal\">p</mi><mi mathvariant=\"normal\">s</mi></mrow><mrow><mi mathvariant=\"normal\">T</mi><mi mathvariant=\"normal\">E</mi></mrow></msubsup></mrow></math></th>\n",
       "      <td id=\"T_8eda3_row16_col0\" class=\"data row16 col0\" >4.200000e-02</td>\n",
       "      <td id=\"T_8eda3_row16_col1\" class=\"data row16 col1\" >3.558257e-03</td>\n",
       "      <td id=\"T_8eda3_row16_col2\" class=\"data row16 col2\" >11.803533</td>\n",
       "    </tr>\n",
       "    <tr>\n",
       "      <th id=\"T_8eda3_level0_row17\" class=\"row_heading level0 row17\" ><math xmlns=\"http://www.w3.org/1998/Math/MathML\" display=\"inline\"><mrow><mi>&#x003BE;</mi></mrow></math></th>\n",
       "      <td id=\"T_8eda3_row17_col0\" class=\"data row17 col0\" >1.000000e-01</td>\n",
       "      <td id=\"T_8eda3_row17_col1\" class=\"data row17 col1\" >1.499541e-02</td>\n",
       "      <td id=\"T_8eda3_row17_col2\" class=\"data row17 col2\" >6.668706</td>\n",
       "    </tr>\n",
       "    <tr>\n",
       "      <th id=\"T_8eda3_level0_row18\" class=\"row_heading level0 row18\" ><math xmlns=\"http://www.w3.org/1998/Math/MathML\" display=\"inline\"><mrow><msubsup><mi>a</mi><mrow><mi mathvariant=\"normal\">d</mi><mi mathvariant=\"normal\">u</mi><mi mathvariant=\"normal\">s</mi><mi mathvariant=\"normal\">t</mi></mrow><mrow><mi mathvariant=\"normal\">T</mi><mi mathvariant=\"normal\">E</mi></mrow></msubsup></mrow></math></th>\n",
       "      <td id=\"T_8eda3_row18_col0\" class=\"data row18 col0\" >1.000000e-01</td>\n",
       "      <td id=\"T_8eda3_row18_col1\" class=\"data row18 col1\" >1.589361e-02</td>\n",
       "      <td id=\"T_8eda3_row18_col2\" class=\"data row18 col2\" >6.291835</td>\n",
       "    </tr>\n",
       "    <tr>\n",
       "      <th id=\"T_8eda3_level0_row19\" class=\"row_heading level0 row19\" ><math xmlns=\"http://www.w3.org/1998/Math/MathML\" display=\"inline\"><mrow><msub><mi>a</mi><mrow><mi mathvariant=\"normal\">k</mi><mi mathvariant=\"normal\">S</mi><mi mathvariant=\"normal\">Z</mi></mrow></msub></mrow></math></th>\n",
       "      <td id=\"T_8eda3_row19_col0\" class=\"data row19 col0\" >1.600000e+00</td>\n",
       "      <td id=\"T_8eda3_row19_col1\" class=\"data row19 col1\" >2.589273e-01</td>\n",
       "      <td id=\"T_8eda3_row19_col2\" class=\"data row19 col2\" >6.179340</td>\n",
       "    </tr>\n",
       "    <tr>\n",
       "      <th id=\"T_8eda3_level0_row20\" class=\"row_heading level0 row20\" ><math xmlns=\"http://www.w3.org/1998/Math/MathML\" display=\"inline\"><mrow><msub><mi>a</mi><mi>c</mi></msub></mrow></math></th>\n",
       "      <td id=\"T_8eda3_row20_col0\" class=\"data row20 col0\" >4.900000e+00</td>\n",
       "      <td id=\"T_8eda3_row20_col1\" class=\"data row20 col1\" >8.875297e-01</td>\n",
       "      <td id=\"T_8eda3_row20_col2\" class=\"data row20 col2\" >5.520942</td>\n",
       "    </tr>\n",
       "    <tr>\n",
       "      <th id=\"T_8eda3_level0_row21\" class=\"row_heading level0 row21\" ><math xmlns=\"http://www.w3.org/1998/Math/MathML\" display=\"inline\"><mrow><msubsup><mi>a</mi><mrow><mi mathvariant=\"normal\">d</mi><mi mathvariant=\"normal\">u</mi><mi mathvariant=\"normal\">s</mi><mi mathvariant=\"normal\">t</mi></mrow><mrow><mi mathvariant=\"normal\">T</mi><mi mathvariant=\"normal\">T</mi></mrow></msubsup></mrow></math></th>\n",
       "      <td id=\"T_8eda3_row21_col0\" class=\"data row21 col0\" >2.800000e+00</td>\n",
       "      <td id=\"T_8eda3_row21_col1\" class=\"data row21 col1\" >5.458397e-01</td>\n",
       "      <td id=\"T_8eda3_row21_col2\" class=\"data row21 col2\" >5.129711</td>\n",
       "    </tr>\n",
       "    <tr>\n",
       "      <th id=\"T_8eda3_level0_row22\" class=\"row_heading level0 row22\" ><math xmlns=\"http://www.w3.org/1998/Math/MathML\" display=\"inline\"><mrow><msub><mi>&#x003C4;</mi><mrow><mi mathvariant=\"normal\">r</mi><mi mathvariant=\"normal\">e</mi><mi mathvariant=\"normal\">i</mi><mi mathvariant=\"normal\">o</mi></mrow></msub></mrow></math></th>\n",
       "      <td id=\"T_8eda3_row22_col0\" class=\"data row22 col0\" >5.440000e-02</td>\n",
       "      <td id=\"T_8eda3_row22_col1\" class=\"data row22 col1\" >1.063018e-02</td>\n",
       "      <td id=\"T_8eda3_row22_col2\" class=\"data row22 col2\" >5.117505</td>\n",
       "    </tr>\n",
       "    <tr>\n",
       "      <th id=\"T_8eda3_level0_row23\" class=\"row_heading level0 row23\" ><math xmlns=\"http://www.w3.org/1998/Math/MathML\" display=\"inline\"><mrow><msub><mi>&#x003B1;</mi><mrow><mrow><mi mathvariant=\"normal\">d</mi><mi mathvariant=\"normal\">u</mi><mi mathvariant=\"normal\">s</mi><mi mathvariant=\"normal\">t</mi></mrow><mo>&#x0002C;</mo><mi>T</mi></mrow></msub></mrow></math></th>\n",
       "      <td id=\"T_8eda3_row23_col0\" class=\"data row23 col0\" >-6.000000e-01</td>\n",
       "      <td id=\"T_8eda3_row23_col1\" class=\"data row23 col1\" >2.654750e-01</td>\n",
       "      <td id=\"T_8eda3_row23_col2\" class=\"data row23 col2\" >2.260100</td>\n",
       "    </tr>\n",
       "    <tr>\n",
       "      <th id=\"T_8eda3_level0_row24\" class=\"row_heading level0 row24\" ><math xmlns=\"http://www.w3.org/1998/Math/MathML\" display=\"inline\"><mrow><msubsup><mi>a</mi><mrow><mi mathvariant=\"normal\">p</mi><mi mathvariant=\"normal\">s</mi></mrow><mrow><mi mathvariant=\"normal\">E</mi><mi mathvariant=\"normal\">E</mi></mrow></msubsup></mrow></math></th>\n",
       "      <td id=\"T_8eda3_row24_col0\" class=\"data row24 col0\" >3.000000e-03</td>\n",
       "      <td id=\"T_8eda3_row24_col1\" class=\"data row24 col1\" >4.561110e-03</td>\n",
       "      <td id=\"T_8eda3_row24_col2\" class=\"data row24 col2\" >0.657735</td>\n",
       "    </tr>\n",
       "  </tbody>\n",
       "</table>\n"
      ],
      "text/plain": [
       "<pandas.io.formats.style.Styler at 0x756e71457790>"
      ]
     },
     "execution_count": 112,
     "metadata": {},
     "output_type": "execute_result"
     }
   ],
   "source": [
    "# LaTeX expressions do not render properly with pydata-sphinx-theme.\n",
    "# It's long standing issue https://github.com/executablebooks/jupyter-book/issues/1826\n",
    "# with no real solution except hacky's one. Here we convert LaTeX name of parameters to MathML\n",
    "# equivalent and display the pandas dataframe with the styler class of pandas to render HTML code\n",
    "# You need to pip install latex2mathml or change index to latex_names variable\n",
    "# if you do not plan to generate documentation.\n",
    "import pandas as pd\n",
    "from latex2mathml.converter import convert\n",
    "\n",
    "(\n",
    "    pd.DataFrame(\n",
    "        [\n",
    "            [defaults[name], sigma, np.abs(defaults[name] / sigma)]\n",
    "            for name, sigma in zip(fisher_params, fisher_sigmas)\n",
    "        ],\n",
    "        columns=[\"value\", \"σ\", \"Fisher S/N\"],\n",
    "        index=map(convert, [rf\"{labels[name]}\" for name in fisher_params]),\n",
    "    )\n",
    "    .sort_values(\"Fisher S/N\", ascending=False)\n",
    "    .style.format(\"{:e}\", subset=[\"value\", \"σ\"])\n",
    ")"
   ]
  },
  {
   "cell_type": "markdown",
   "id": "a7d8390e-00bd-414f-a5ab-50076b05dd4e",
   "metadata": {
    "editable": true,
    "slideshow": {
     "slide_type": ""
    },
    "tags": []
   },
   "source": [
    "Let's show the Signal over Noise ratio graphically\n",
    "\n"
   ]
  },
  {
   "cell_type": "code",
   "execution_count": 10,
   "id": "a9d2f236-e23e-4767-9e60-fcf5f750d872",
   "metadata": {
    "editable": true,
    "slideshow": {
     "slide_type": ""
    },
    "tags": []
   },
   "outputs": [
    {
     "data": {
      "image/png": "[encoded data removed]",
      "text/plain": [
       "<Figure size 1000x800 with 1 Axes>"
      ]
     },
     "metadata": {},
     "output_type": "display_data"
    }
   ],
   "source": [
    "fig, ax = plt.subplots(figsize=(10, 8))\n",
    "signal_over_noise = [np.abs(defaults[name] / sigma) for name, sigma in zip(fisher_params, fisher_sigmas)]\n",
    "colors = [\"b\" if name in cosmo_params else \"r\" for name in fisher_params]\n",
    "ax.barh(np.arange(nparams), signal_over_noise, color=colors)\n",
    "ax.set(xscale=\"log\", xlabel=\"S/N\")\n",
    "ax.set_yticks(range(len(fisher_params)), latex_names);"
   ]
  },
  {
   "cell_type": "markdown",
   "id": "695c4ded-3e85-4055-8f2a-fc8dc00aca82",
   "metadata": {
    "editable": true,
    "slideshow": {
     "slide_type": ""
    },
    "tags": []
   },
   "source": [
    "It also works for TT, TE or EE mode even if you keep the default list of sampled parameters. It will\n",
    "only warn you about the fact that some parameters have no effect on power spectra and thus can be\n",
    "removed from the sampled parameter list.\n",
    "\n"
   ]
  }
 ],
 "metadata": {
  "kernelspec": {
   "display_name": "Python 3 (ipykernel)",
   "language": "python",
   "name": "python3"
  },
  "language_info": {
   "codemirror_mode": {
    "name": "ipython",
    "version": 3
   },
   "file_extension": ".py",
   "mimetype": "text/x-python",
   "name": "python",
   "nbconvert_exporter": "python",
   "pygments_lexer": "ipython3",
   "version": "3.10.14"
  },
  "widgets": {
   "application/vnd.jupyter.widget-state+json": {
    "state": {
     "09903a411f764ace86dcb04da8c08243": {
      "model_module": "@jupyter-widgets/base",
      "model_module_version": "2.0.0",
      "model_name": "LayoutModel",
      "state": {}
     },
     "17ca81dadcb44db8bfce55381f8a9f7c": {
      "model_module": "@jupyter-widgets/base",
      "model_module_version": "2.0.0",
      "model_name": "LayoutModel",
      "state": {}
     },
     "186fb2e2e8154930bc3e7473c9a54a7a": {
      "model_module": "@jupyter-widgets/controls",
      "model_module_version": "2.0.0",
      "model_name": "FloatProgressModel",
      "state": {
       "bar_style": "success",
       "layout": "IPY_MODEL_7c6969290f4d4bfdb6fdbf7fd41d2b6c",
       "max": 25,
       "style": "IPY_MODEL_5bdc1e8b6bfa46aca9889a71f23c001c",
       "value": 25
      }
     },
     "1ccc01e5a60842fcbbb3bbd2aa8fd063": {
      "model_module": "@jupyter-widgets/base",
      "model_module_version": "2.0.0",
      "model_name": "LayoutModel",
      "state": {}
     },
     "33b449e968674e1eb5a6a09466f666f9": {
      "model_module": "@jupyter-widgets/controls",
      "model_module_version": "2.0.0",
      "model_name": "HBoxModel",
      "state": {
       "children": [
        "IPY_MODEL_fd7c7ab7929b4212a9cc5e3e555b171c",
        "IPY_MODEL_186fb2e2e8154930bc3e7473c9a54a7a",
        "IPY_MODEL_af3278a2b18b49748e997a583719b209"
       ],
       "layout": "IPY_MODEL_82f6a65289754a22b6853a8ac9ae8b2b"
      }
     },
     "362606dba54c461496ea58a8bdeb8d01": {
      "model_module": "@jupyter-widgets/controls",
      "model_module_version": "2.0.0",
      "model_name": "HTMLModel",
      "state": {
       "layout": "IPY_MODEL_9510b34637824ae3a198249aee094c98",
       "style": "IPY_MODEL_d9bd2a774c5c402ba629539975e9202d",
       "value": " 25/25 [00:42&lt;00:00,  3.57it/s]"
      }
     },
     "46a8dbaa0b6d46a8988e44a7b9c541e9": {
      "model_module": "@jupyter-widgets/controls",
      "model_module_version": "2.0.0",
      "model_name": "HTMLStyleModel",
      "state": {
       "description_width": "",
       "font_size": null,
       "text_color": null
      }
     },
     "5bdc1e8b6bfa46aca9889a71f23c001c": {
      "model_module": "@jupyter-widgets/controls",
      "model_module_version": "2.0.0",
      "model_name": "ProgressStyleModel",
      "state": {
       "description_width": ""
      }
     },
     "5e9f820a68c140f093216a90da88ba5c": {
      "model_module": "@jupyter-widgets/base",
      "model_module_version": "2.0.0",
      "model_name": "LayoutModel",
      "state": {}
     },
     "60612c6ce10c488e9fd6288de4e876fe": {
      "model_module": "@jupyter-widgets/controls",
      "model_module_version": "2.0.0",
      "model_name": "HTMLModel",
      "state": {
       "layout": "IPY_MODEL_17ca81dadcb44db8bfce55381f8a9f7c",
       "style": "IPY_MODEL_78f93ff6ba52488e91451b162f818772",
       "value": "Processing &#x27;alpha_p&#x27; parameter: 100%"
      }
     },
     "63ed171a530b4312b9205adcc258b390": {
      "model_module": "@jupyter-widgets/base",
      "model_module_version": "2.0.0",
      "model_name": "LayoutModel",
      "state": {}
     },
     "78f93ff6ba52488e91451b162f818772": {
      "model_module": "@jupyter-widgets/controls",
      "model_module_version": "2.0.0",
      "model_name": "HTMLStyleModel",
      "state": {
       "description_width": "",
       "font_size": null,
       "text_color": null
      }
     },
     "7c6969290f4d4bfdb6fdbf7fd41d2b6c": {
      "model_module": "@jupyter-widgets/base",
      "model_module_version": "2.0.0",
      "model_name": "LayoutModel",
      "state": {}
     },
     "82f6a65289754a22b6853a8ac9ae8b2b": {
      "model_module": "@jupyter-widgets/base",
      "model_module_version": "2.0.0",
      "model_name": "LayoutModel",
      "state": {}
     },
     "9510b34637824ae3a198249aee094c98": {
      "model_module": "@jupyter-widgets/base",
      "model_module_version": "2.0.0",
      "model_name": "LayoutModel",
      "state": {}
     },
     "a90ddce1e0cd4113860bcd6b5287fc21": {
      "model_module": "@jupyter-widgets/controls",
      "model_module_version": "2.0.0",
      "model_name": "HTMLStyleModel",
      "state": {
       "description_width": "",
       "font_size": null,
       "text_color": null
      }
     },
     "af3278a2b18b49748e997a583719b209": {
      "model_module": "@jupyter-widgets/controls",
      "model_module_version": "2.0.0",
      "model_name": "HTMLModel",
      "state": {
       "layout": "IPY_MODEL_1ccc01e5a60842fcbbb3bbd2aa8fd063",
       "style": "IPY_MODEL_a90ddce1e0cd4113860bcd6b5287fc21",
       "value": " 25/25 [00:43&lt;00:00,  2.80it/s]"
      }
     },
     "d9bd2a774c5c402ba629539975e9202d": {
      "model_module": "@jupyter-widgets/controls",
      "model_module_version": "2.0.0",
      "model_name": "HTMLStyleModel",
      "state": {
       "description_width": "",
       "font_size": null,
       "text_color": null
      }
     },
     "e3bd117d620a4ae5b1a2307add7ff37c": {
      "model_module": "@jupyter-widgets/controls",
      "model_module_version": "2.0.0",
      "model_name": "FloatProgressModel",
      "state": {
       "bar_style": "success",
       "layout": "IPY_MODEL_09903a411f764ace86dcb04da8c08243",
       "max": 25,
       "style": "IPY_MODEL_f64fc95bbe2c47b5b06af29587fdfef1",
       "value": 25
      }
     },
     "f64fc95bbe2c47b5b06af29587fdfef1": {
      "model_module": "@jupyter-widgets/controls",
      "model_module_version": "2.0.0",
      "model_name": "ProgressStyleModel",
      "state": {
       "description_width": ""
      }
     },
     "fb39736aae7b48fab607d84f2d1e32ec": {
      "model_module": "@jupyter-widgets/controls",
      "model_module_version": "2.0.0",
      "model_name": "HBoxModel",
      "state": {
       "children": [
        "IPY_MODEL_60612c6ce10c488e9fd6288de4e876fe",
        "IPY_MODEL_e3bd117d620a4ae5b1a2307add7ff37c",
        "IPY_MODEL_362606dba54c461496ea58a8bdeb8d01"
       ],
       "layout": "IPY_MODEL_63ed171a530b4312b9205adcc258b390"
      }
     },
     "fd7c7ab7929b4212a9cc5e3e555b171c": {
      "model_module": "@jupyter-widgets/controls",
      "model_module_version": "2.0.0",
      "model_name": "HTMLModel",
      "state": {
       "layout": "IPY_MODEL_5e9f820a68c140f093216a90da88ba5c",
       "style": "IPY_MODEL_46a8dbaa0b6d46a8988e44a7b9c541e9",
       "value": "Processing &#x27;alpha_p&#x27; parameter: 100%"
      }
     }
    },
    "version_major": 2,
    "version_minor": 0
   }
  }
 },
 "nbformat": 4,
 "nbformat_minor": 5
}
