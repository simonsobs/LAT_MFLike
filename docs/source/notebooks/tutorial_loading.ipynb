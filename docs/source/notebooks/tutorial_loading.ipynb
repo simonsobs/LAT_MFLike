{
 "cells": [
  {
   "cell_type": "markdown",
   "id": "d561f7c6-434f-46d0-bafc-07f5705b39e0",
   "metadata": {
    "editable": true,
    "slideshow": {
     "slide_type": ""
    },
    "tags": []
   },
   "source": [
    "# Loading & getting `MFLike` likelihood from `cobaya`"
   ]
  },
  {
   "cell_type": "markdown",
   "id": "5ab80bfe-f276-4617-906d-1794fd09c932",
   "metadata": {
    "editable": true,
    "slideshow": {
     "slide_type": ""
    },
    "tags": []
   },
   "source": [
    "In this first tutorial, we will see how to instantiate `mflike` from `cobaya` interface and how we can retrieve the likelihood. This notebook is currently using the following modules: "
   ]
  },
  {
   "cell_type": "code",
   "execution_count": 1,
   "id": "69c60337-7626-48a3-9769-4a6c5ed73d8b",
   "metadata": {
    "editable": true,
    "slideshow": {
     "slide_type": ""
    },
    "tags": [
     "hide-input"
    ]
   },
   "outputs": [
    {
     "name": "stdout",
     "output_type": "stream",
     "text": [
      "     Numpy : 1.26.4\n",
      "Matplotlib : 3.8.3\n",
      "      CAMB : 1.5.4\n",
      "    Cobaya : 3.5\n"
     ]
    }
   ],
   "source": [
    "import matplotlib as mpl\n",
    "import numpy as np\n",
    "\n",
    "import camb\n",
    "import cobaya\n",
    "\n",
    "print(\"     Numpy :\", np.__version__)\n",
    "print(\"Matplotlib :\", mpl.__version__)\n",
    "print(\"      CAMB :\", camb.__version__)\n",
    "print(\"    Cobaya :\", cobaya.__version__)"
   ]
  },
  {
   "cell_type": "markdown",
   "id": "075b1afa-7f22-485e-9134-df7f3688e559",
   "metadata": {
    "editable": true,
    "slideshow": {
     "slide_type": ""
    },
    "tags": []
   },
   "source": [
    "## Installing `MFLike` likelihood data"
   ]
  },
  {
   "cell_type": "markdown",
   "id": "f2e77f13-7af8-460f-995c-f905b5ce326a",
   "metadata": {
    "editable": true,
    "slideshow": {
     "slide_type": ""
    },
    "tags": []
   },
   "source": [
    "We first start by declaring the likelihood within a `dict` object. Most of the likelihood's options are set by default. Here we only set the input `sacc` file and the associated covariance file."
   ]
  },
  {
   "cell_type": "code",
   "execution_count": 2,
   "id": "35d4d883-0554-4c0f-ba43-c39bbdbc0735",
   "metadata": {
    "editable": true,
    "slideshow": {
     "slide_type": ""
    },
    "tags": []
   },
   "outputs": [],
   "source": [
    "mflike_input_file = dict(\n",
    "    input_file=\"LAT_simu_sacc_00044.fits\", cov_Bbl_file=\"data_sacc_w_covar_and_Bbl.fits\"\n",
    ")\n",
    "mflike_config = {\"mflike.MFLike\": mflike_input_file}"
   ]
  },
  {
   "cell_type": "markdown",
   "id": "d51c0d79-81e0-4eac-b5ed-31ceafa32a03",
   "metadata": {
    "editable": true,
    "slideshow": {
     "slide_type": ""
    },
    "tags": []
   },
   "source": [
    "These files do not come with the `mflike` likelihood and we need to download and to install data needed by `mflike`. Here we will do it programatically in such a way we can use this notebook without any prerequisites. Code and data will be stored in the `/tmp` directory for the tutorial purpose but feel free to change it to whatever location you want. By the way the next command will take some times to proceed."
   ]
  },
  {
   "cell_type": "code",
   "execution_count": 3,
   "id": "a282004c-7f40-4960-b4e5-1f5272f7b2da",
   "metadata": {
    "editable": true,
    "scrolled": true,
    "slideshow": {
     "slide_type": ""
    },
    "tags": []
   },
   "outputs": [
    {
     "name": "stdout",
     "output_type": "stream",
     "text": [
      "[install] Installing external packages at '/tmp/LAT_packages'\n",
      "\n",
      "================================================================================\n",
      "likelihood:mflike.MFLike\n",
      "================================================================================\n",
      "\n",
      "[install] Checking if dependencies have already been installed...\n",
      "[install] Check found no existing installation\n",
      "[install] (If you expected this to be already installed, re-run `cobaya-install` with --debug to get more verbose output.)\n",
      "[install] Installing...\n",
      "[mflike] Downloading likelihood data file: https://portal.nersc.gov/cfs/sobs/users/MFLike_data/v0.8.tar.gz...\n"
     ]
    },
    {
     "name": "stderr",
     "output_type": "stream",
     "text": [
      "100%|███████████████████████████████████| 198M/198M [00:15<00:00, 13.8MiB/s]"
     ]
    },
    {
     "name": "stdout",
     "output_type": "stream",
     "text": [
      "[mflike] Downloaded filename v0.8.tar.gz\n"
     ]
    },
    {
     "name": "stderr",
     "output_type": "stream",
     "text": [
      "\n"
     ]
    },
    {
     "name": "stdout",
     "output_type": "stream",
     "text": [
      "[mflike] Likelihood data downloaded and uncompressed correctly.\n",
      "[install] Successfully installed! Let's check it...\n",
      "[install] Installation check successful.\n",
      "\n",
      "================================================================================\n",
      "* Summary * \n",
      "================================================================================\n",
      "\n",
      "[install] All requested components' dependencies correctly installed at /tmp/LAT_packages\n"
     ]
    }
   ],
   "source": [
    "import os\n",
    "import tempfile\n",
    "\n",
    "from cobaya.install import install\n",
    "\n",
    "packages_path = os.path.join(tempfile.gettempdir(), \"LAT_packages\")\n",
    "install({\"likelihood\": mflike_config}, path=packages_path, no_set_global=True, skip_global=True);"
   ]
  },
  {
   "cell_type": "markdown",
   "id": "decb76dc-e372-4043-8dcc-0f14797db66b",
   "metadata": {},
   "source": [
    "## Loading `MFLike` *via* `cobaya`"
   ]
  },
  {
   "cell_type": "markdown",
   "id": "d5b75efe-5856-44fe-afd0-01c2957c906b",
   "metadata": {
    "editable": true,
    "slideshow": {
     "slide_type": ""
    },
    "tags": []
   },
   "source": [
    "Given a successful installation of the data, we then need to set the default values of CMB, foreground and nuisance parameters."
   ]
  },
  {
   "cell_type": "code",
   "execution_count": 4,
   "id": "7e56816c-4ff0-42dc-87b9-d4ba860f0f68",
   "metadata": {
    "editable": true,
    "slideshow": {
     "slide_type": ""
    },
    "tags": []
   },
   "outputs": [],
   "source": [
    "cosmo_params = {\n",
    "    \"cosmomc_theta\": 0.0104092,\n",
    "    \"As\": 1e-10 * np.exp(3.044),\n",
    "    \"ombh2\": 0.02237,\n",
    "    \"omch2\": 0.1200,\n",
    "    \"ns\": 0.9649,\n",
    "    \"Alens\": 1.0,\n",
    "    \"tau\": 0.0544,\n",
    "}\n",
    "\n",
    "fg_params = {\n",
    "    \"a_tSZ\": 3.30,\n",
    "    \"a_kSZ\": 1.60,\n",
    "    \"a_p\": 6.90,\n",
    "    \"beta_p\": 2.20,\n",
    "    \"a_c\": 4.90,\n",
    "    \"beta_c\": 2.20,\n",
    "    \"a_s\": 3.10,\n",
    "    \"T_d\": 9.60,\n",
    "    \"a_gtt\": 2.80,\n",
    "    \"a_gte\": 0.10,\n",
    "    \"a_gee\": 0.10,\n",
    "    \"a_psee\": 0.003,\n",
    "    \"a_pste\": 0.042,\n",
    "    \"xi\": 0.10,\n",
    "    \"beta_s\": -2.5,  # beta radio\n",
    "    \"alpha_s\": 1,  # alpha radio\n",
    "    \"T_effd\": 19.6,  # effective galactic dust temperature\n",
    "    \"beta_d\": 1.5,  # beta galactic dust\n",
    "    \"alpha_dT\": -0.6,  # galactic dust ell slope for T\n",
    "    \"alpha_dE\": -0.4,  # galactic dust ell slope for E\n",
    "    \"alpha_p\": 1,  # CIB poisson ell slope\n",
    "}\n",
    "\n",
    "nuisance_params = {\n",
    "    # only ideal values for now\n",
    "    \"bandint_shift_LAT_93\": 0,\n",
    "    \"bandint_shift_LAT_145\": 0,\n",
    "    \"bandint_shift_LAT_225\": 0,\n",
    "    \"calT_LAT_93\": 1,\n",
    "    \"calE_LAT_93\": 1,\n",
    "    \"calT_LAT_145\": 1,\n",
    "    \"calE_LAT_145\": 1,\n",
    "    \"calT_LAT_225\": 1,\n",
    "    \"calE_LAT_225\": 1,\n",
    "    \"cal_LAT_93\": 1,\n",
    "    \"cal_LAT_145\": 1,\n",
    "    \"cal_LAT_225\": 1,\n",
    "    \"calG_all\": 1,\n",
    "    \"alpha_LAT_93\": 0,\n",
    "    \"alpha_LAT_145\": 0,\n",
    "    \"alpha_LAT_225\": 0,\n",
    "}"
   ]
  },
  {
   "cell_type": "markdown",
   "id": "009299c6-edfd-4971-9a91-f3ce5b234f5c",
   "metadata": {
    "editable": true,
    "slideshow": {
     "slide_type": ""
    },
    "tags": []
   },
   "source": [
    "We finally put everything into a dictionary to push it into `cobaya` configuration system. Here for the purpose of this tutorial, we use `camb` as Boltzmann solver with minimal settings. Another configuration `high_accuracy_settings` is also provided and you can switch within the `info` object"
   ]
  },
  {
   "cell_type": "code",
   "execution_count": 5,
   "id": "a1c392f3-db2a-4a4f-aa8f-2094fa385992",
   "metadata": {
    "editable": true,
    "slideshow": {
     "slide_type": ""
    },
    "tags": []
   },
   "outputs": [],
   "source": [
    "minimal_settings = dict(lens_potential_accuracy=1)\n",
    "\n",
    "high_accuracy_settings = dict(\n",
    "    lens_potential_accuracy=8,\n",
    "    lens_margin=2050,\n",
    "    AccuracyBoost=2.0,\n",
    "    lSampleBoost=2.0,\n",
    "    lAccuracyBoost=2.0,\n",
    "    kmax=10,\n",
    "    k_per_logint=130,\n",
    "    nonlinear=True,\n",
    "    DoLateRadTruncation=False,\n",
    ")\n",
    "\n",
    "info = {\n",
    "    \"params\": cosmo_params | fg_params | nuisance_params,\n",
    "    \"likelihood\": mflike_config,\n",
    "    \"theory\": {\"camb\": {\"extra_args\": minimal_settings}},\n",
    "    \"packages_path\": packages_path,\n",
    "}"
   ]
  },
  {
   "cell_type": "markdown",
   "id": "05537a7c-64c8-47f2-ac43-c032b9e395e6",
   "metadata": {
    "editable": true,
    "slideshow": {
     "slide_type": ""
    },
    "tags": []
   },
   "source": [
    "We will now get the model given the above parameters\n",
    "\n"
   ]
  },
  {
   "cell_type": "code",
   "execution_count": 6,
   "id": "a2304c24-57b5-499e-8dd1-e51198db6dec",
   "metadata": {
    "editable": true,
    "slideshow": {
     "slide_type": ""
    },
    "tags": []
   },
   "outputs": [
    {
     "name": "stdout",
     "output_type": "stream",
     "text": [
      "[camb] `camb` module loaded successfully from /home/garrido/Workdir/cmb/development/LAT_MFLike/pyenv/lib/python3.11/site-packages/camb\n",
      "[mflike.mflike] Number of bins used: 3087\n",
      "[mflike.mflike] Initialized!\n"
     ]
    }
   ],
   "source": [
    "from cobaya.model import get_model\n",
    "\n",
    "model = get_model(info)"
   ]
  },
  {
   "cell_type": "markdown",
   "id": "18e7f49d-a89f-4aed-b907-e1599fa5567d",
   "metadata": {
    "editable": true,
    "slideshow": {
     "slide_type": ""
    },
    "tags": []
   },
   "source": [
    "To get a direct acces to the `MFLike` likelihood instance, we can retrieve it from the collection of\n",
    "likelihoods of `cobaya` given its name (so far there is only our likelihood)\n",
    "\n"
   ]
  },
  {
   "cell_type": "code",
   "execution_count": 7,
   "id": "e243d3ea-59a6-45c8-b18f-314d0af4ff32",
   "metadata": {
    "editable": true,
    "slideshow": {
     "slide_type": ""
    },
    "tags": []
   },
   "outputs": [],
   "source": [
    "mflike = model.likelihood[\"mflike.MFLike\"]"
   ]
  },
  {
   "cell_type": "markdown",
   "id": "5ba1f7e3-ebf0-4ca4-89a5-ab7d5bf6b168",
   "metadata": {
    "editable": true,
    "slideshow": {
     "slide_type": ""
    },
    "tags": []
   },
   "source": [
    "We can now play with the different data (Bbl, inverted covariance matrix) and we can also call the different likelihood methods."
   ]
  }
 ],
 "metadata": {
  "kernelspec": {
   "display_name": "Python 3 (ipykernel)",
   "language": "python",
   "name": "python3"
  },
  "language_info": {
   "codemirror_mode": {
    "name": "ipython",
    "version": 3
   },
   "file_extension": ".py",
   "mimetype": "text/x-python",
   "name": "python",
   "nbconvert_exporter": "python",
   "pygments_lexer": "ipython3",
   "version": "3.11.7"
  },
  "widgets": {
   "application/vnd.jupyter.widget-state+json": {
    "state": {},
    "version_major": 2,
    "version_minor": 0
   }
  }
 },
 "nbformat": 4,
 "nbformat_minor": 5
}
