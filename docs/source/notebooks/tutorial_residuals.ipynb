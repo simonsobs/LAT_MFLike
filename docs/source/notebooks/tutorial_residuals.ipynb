{
 "cells": [
  {
   "cell_type": "code",
   "execution_count": null,
   "id": "4c01ab6b-ea9b-4bff-8c6f-abac185b6936",
   "metadata": {
    "slideshow": {
     "slide_type": ""
    },
    "tags": [
     "hide-input"
    ]
   },
   "outputs": [],
   "source": [
    "import seaborn as sns\n",
    "\n",
    "sns.set_theme(\n",
    "    rc={\n",
    "        \"axes.spines.top\": False,\n",
    "        \"axes.spines.right\": False,\n",
    "        \"figure.autolayout\": True,\n",
    "        \"legend.frameon\": False,\n",
    "    },\n",
    "    style=\"ticks\",\n",
    ")"
   ]
  },
  {
   "cell_type": "markdown",
   "id": "85b86cd8-0b55-4cb4-a7b2-28a7d55eb9e5",
   "metadata": {
    "slideshow": {
     "slide_type": ""
    },
    "tags": []
   },
   "source": [
    "# Plotting simulations & residuals spectra"
   ]
  },
  {
   "cell_type": "markdown",
   "id": "d17b0825-d1ae-46b5-a8b3-6941f0355a9b",
   "metadata": {
    "slideshow": {
     "slide_type": ""
    },
    "tags": []
   },
   "source": [
    "Simulations and data as well as covariance are stored as `sacc` objects. For more details regarding `sacc` format, you can have a look to the tutorial [notebooks](https://github.com/LSSTDESC/sacc/tree/master/examples) or you can refer to the official [documentation](https://sacc.readthedocs.io/en/latest/). Here we will read the power spectra for all the simulations and compare its mean value to theory + foregrounds (without and with systematics). As we will see, **the content of each spectrum (multipole range, spectra, associated covariance...) is stored within the `spec_meta` attribute of `MFLike`**. In this tutorial, we will see how to dig into this attribute to plot simulated data against models.\n",
    "\n",
    "\n",
    "We first start by using the likelihood declaration from the first [tutorial](tutorial_loading.ipynb)"
   ]
  },
  {
   "cell_type": "code",
   "execution_count": null,
   "id": "4b7740a7-e6df-4ee9-9bbc-5638ad0b6f0d",
   "metadata": {
    "slideshow": {
     "slide_type": ""
    },
    "tags": [
     "remove-output"
    ]
   },
   "outputs": [],
   "source": [
    "%run tutorial_loading.ipynb"
   ]
  },
  {
   "cell_type": "markdown",
   "id": "68ad7e98-d99d-4893-b9ec-bfc05f09b63a",
   "metadata": {
    "slideshow": {
     "slide_type": ""
    },
    "tags": []
   },
   "source": [
    "As we did in the foreground [tutorial](tutorial_foregrounds.ipynb), we first get the theory spectra"
   ]
  },
  {
   "cell_type": "code",
   "execution_count": null,
   "id": "4b8533bc-5f74-4d92-a4dd-e60364ea4bfc",
   "metadata": {
    "slideshow": {
     "slide_type": ""
    },
    "tags": [
     "hide-output"
    ]
   },
   "outputs": [],
   "source": [
    "model.logposterior({})\n",
    "dls = model.theory[\"camb\"].get_Cl(ell_factor=True)"
   ]
  },
  {
   "cell_type": "markdown",
   "id": "405a7fb9-55a9-48bd-9c06-a9cd05e65691",
   "metadata": {
    "slideshow": {
     "slide_type": ""
    },
    "tags": []
   },
   "source": [
    "To take into account the systematics, we call the `mflike.get_modified_theory` function. In this function, we need to use the same $\\ell$ range set by the data through the variable `l_bpws`, that is why we generated the theory spectra using the `mflike.l_bpws` ell range. (Notice that `dls` has a multipole range of `2, mflike.l_bpws[-1]`)."
   ]
  },
  {
   "cell_type": "code",
   "execution_count": null,
   "id": "2caf02a2-f817-4bcf-a942-21b6cc6cf835",
   "metadata": {
    "slideshow": {
     "slide_type": ""
    },
    "tags": []
   },
   "outputs": [],
   "source": [
    "ell = mflike.l_bpws\n",
    "dls_cmb = {mode: dls[mode][ell] for mode in [\"tt\", \"te\", \"ee\", \"bb\"]}\n",
    "foreground_model = model.theory[\"mflike.BandpowerForeground\"]\n",
    "fg_totals = foreground_model.get_fg_totals()\n",
    "dl_obs = mflike.get_modified_theory(dls_cmb, fg_totals, **nuisance_params)"
   ]
  },
  {
   "cell_type": "markdown",
   "id": "d4e0a07f-01d4-4e81-abcc-5e65c33f0684",
   "metadata": {
    "slideshow": {
     "slide_type": ""
    },
    "tags": []
   },
   "source": [
    "There would be a difference between theory, foreground and the total spectra modified by the systematics once some of the `nuisance_parameters` are set to a non-ideal value."
   ]
  },
  {
   "cell_type": "markdown",
   "id": "e3cb799b-e0a0-434c-99f7-d9d676e4085d",
   "metadata": {
    "slideshow": {
     "slide_type": ""
    },
    "tags": []
   },
   "source": [
    "## Simulated data *vs.* data model\n",
    "\n",
    "We start by plotting unbinned theory + foreground model with the total power spectrum modified by the systematics for a bunch of simulated files. Let's first start by retrieving the foreground model as a dictionary"
   ]
  },
  {
   "cell_type": "code",
   "execution_count": null,
   "id": "a7ddb3fd-c948-4781-b764-cc78499bd83b",
   "metadata": {
    "slideshow": {
     "slide_type": ""
    },
    "tags": []
   },
   "outputs": [],
   "source": [
    "fg_models = foreground_model.get_foreground_model(ell=ell, **fg_params)"
   ]
  },
  {
   "cell_type": "markdown",
   "id": "f0809472-c381-4093-a1b2-06a21e1bd857",
   "metadata": {
    "slideshow": {
     "slide_type": ""
    },
    "tags": []
   },
   "source": [
    "To load `MFLike` for different simulated data file, we will use the external way as described in the last part of this [tutorial](tutorial_logp_value.ipynb). Altough the `spec_meta` attribute holds the different spectra, there is no easy way to extract a specific cross and/or mode. Here we will built a dictionary indexed on spectrum mode and cross experiments to be latter used by the plotting function (the `contextmanager` is just to catch and flush the `logging` messages when initializing `MFLike` likelihood)"
   ]
  },
  {
   "cell_type": "code",
   "execution_count": null,
   "id": "48432290-be76-4d81-b3c8-e63988a09231",
   "metadata": {
    "slideshow": {
     "slide_type": ""
    },
    "tags": []
   },
   "outputs": [],
   "source": [
    "import logging\n",
    "from contextlib import contextmanager\n",
    "\n",
    "from tqdm.auto import tqdm\n",
    "\n",
    "from mflike import TTTEEE\n",
    "\n",
    "\n",
    "@contextmanager\n",
    "def disable_logging(highest_level=logging.CRITICAL):\n",
    "    previous_level = logging.root.manager.disable\n",
    "    logging.disable(highest_level)\n",
    "    try:\n",
    "        yield\n",
    "    finally:\n",
    "        logging.disable(previous_level)\n",
    "\n",
    "\n",
    "nsims = 10\n",
    "dls_sims = {}\n",
    "for isim in tqdm(range(nsims)):\n",
    "    input_file = dict(input_file=f\"LAT_simu_sacc_{isim:05d}.fits\")\n",
    "    with disable_logging():\n",
    "        ext_mflike = TTTEEE(mflike_input_file | input_file, packages_path=packages_path)\n",
    "        for data in ext_mflike.spec_meta:\n",
    "            lb, db = data.get(\"leff\"), data.get(\"cl_data\")\n",
    "            cross = (data.get(\"t1\"), data.get(\"t2\"))\n",
    "            mode = data.get(\"pol\") if not data.get(\"hasYX_xsp\") else \"et\"\n",
    "            dls_sims.setdefault((mode, *cross), []).append([lb, db])"
   ]
  },
  {
   "cell_type": "markdown",
   "id": "467b6757-c8c2-4014-b259-6774fe09bd59",
   "metadata": {},
   "source": [
    "Finally, we can plot the different simulated spectra on top of the CMB expectation + the foreground model"
   ]
  },
  {
   "cell_type": "code",
   "execution_count": null,
   "id": "a85c9d37-a635-4e01-920a-638cc27b0a4e",
   "metadata": {
    "slideshow": {
     "slide_type": ""
    },
    "tags": []
   },
   "outputs": [],
   "source": [
    "import matplotlib.pyplot as plt\n",
    "\n",
    "\n",
    "def plot_simulation(*cross):\n",
    "    fig, axes = plt.subplots(2, 2, figsize=(10, 8))\n",
    "    for mode, ax in zip([\"tt\", \"ee\", \"te\", \"et\"], axes.flatten()):\n",
    "        if not (dls_sim := dls_sims.get((mode, *cross))):\n",
    "            fig.delaxes(ax)\n",
    "            continue\n",
    "        ax.legend([], title=\"{} - {}x{}\".format(mode.upper(), *cross))\n",
    "        if mode == \"tt\":\n",
    "            ax.set(yscale=\"log\", ylim=(0.1, 10_000))\n",
    "\n",
    "        mode = \"te\" if mode == \"et\" else mode\n",
    "        for lb, db in dls_sim:\n",
    "            ax.plot(lb, db, \"gray\")\n",
    "        ax.plot(ell, dls_cmb[mode], \"-r\", label=\"theory\")\n",
    "        ax.plot(ell, fg_models[mode, \"all\", *cross], \"-b\", label=\"all foregrounds\")\n",
    "        ax.plot(ell, dl_obs[mode, *cross], \"-g\", lw=2, label=\"theory + FG with systematics\")\n",
    "        ax.plot(*np.mean(dls_sim, axis=0), \"--k\", label=\"mean sim.\")\n",
    "\n",
    "    fig.supxlabel(r\"$\\ell$\")\n",
    "    fig.supylabel(r\"$D_\\ell$\")\n",
    "    fig.legend(*axes[0, 0].get_legend_handles_labels(), bbox_to_anchor=(1.3, 1))"
   ]
  },
  {
   "cell_type": "code",
   "execution_count": null,
   "id": "586ce792-ca45-4542-9768-14aa370694d9",
   "metadata": {},
   "outputs": [],
   "source": [
    "plot_simulation(\"LAT_93\", \"LAT_93\")"
   ]
  },
  {
   "cell_type": "code",
   "execution_count": null,
   "id": "94e799f4-1150-4702-890c-8d952896faf8",
   "metadata": {},
   "outputs": [],
   "source": [
    "plot_simulation(\"LAT_93\", \"LAT_145\")"
   ]
  },
  {
   "cell_type": "markdown",
   "id": "973190d9-5c96-4e3e-8b22-de8b17b04037",
   "metadata": {
    "slideshow": {
     "slide_type": ""
    },
    "tags": []
   },
   "source": [
    "## Plotting residuals\n",
    "\n",
    "Given a simulation file, we will loop over the content of `MFLike.spec_meta` attribute to plot the residuals *i.e.* simulations - (theory + foregrounds with possible systematics) for the different spectra and cross frequencies. The bandpower weights are stored within the `bpw` field of `spec_meta` and we use it to bin the theory and foregrounds spectra"
   ]
  },
  {
   "cell_type": "code",
   "execution_count": null,
   "id": "88257c83-141a-4190-a29f-1e03874c0cea",
   "metadata": {},
   "outputs": [],
   "source": [
    "from itertools import combinations_with_replacement as cwr\n",
    "\n",
    "modes = [\"tt\", \"ee\", \"te\", \"et\"]\n",
    "\n",
    "experiments = mflike.experiments\n",
    "crosses = list(cwr(experiments, 2))\n",
    "fig, axes = plt.subplots(len(crosses), 4, sharex=True, figsize=(16, 2 * len(crosses)))\n",
    "\n",
    "for data in mflike.spec_meta:\n",
    "    # Data/simulation\n",
    "    lb = data.get(\"leff\")\n",
    "    db = data.get(\"cl_data\")\n",
    "    ids = data.get(\"ids\")\n",
    "    cov = mflike.cov[np.ix_(ids, ids)]\n",
    "    db_err = np.sqrt(np.diag(cov))\n",
    "\n",
    "    # Fit\n",
    "    cross = (data.get(\"t1\"), data.get(\"t2\"))\n",
    "    db_fit = dl_obs[data.get(\"pol\"), *cross] @ data[\"bpw\"].weight\n",
    "    delta_db = db - db_fit\n",
    "\n",
    "    irow = crosses.index(cross)\n",
    "    mode = data.get(\"pol\") if not data.get(\"hasYX_xsp\") else \"et\"\n",
    "    icol = modes.index(mode)\n",
    "    ax = axes[irow, icol]\n",
    "    if mode == \"tt\":\n",
    "        ax.errorbar(lb, lb**2 * delta_db, lb**2 * db_err, fmt=f\".C{icol}\")\n",
    "    else:\n",
    "        ax.errorbar(lb, delta_db, db_err, fmt=f\".C{icol}\")\n",
    "\n",
    "    chi2 = delta_db @ np.linalg.inv(cov) @ delta_db\n",
    "    title = \"{} - {}x{}\\n$\\chi2$/ndf = {:.2f}\".format(mode.upper(), *cross, chi2 / len(delta_db))\n",
    "    ax.legend([], title=title)\n",
    "\n",
    "# Remove empty axes\n",
    "for ax in axes.flatten():\n",
    "    if not ax.lines:\n",
    "        fig.delaxes(ax)\n",
    "for ax in axes[:, 0]:\n",
    "    ax.set_ylabel(r\"$\\ell^2\\Delta D_\\ell$\")\n",
    "for ax in axes[:, 1:].flatten():\n",
    "    ax.set_ylabel(r\"$\\Delta D_\\ell$\")\n",
    "for ax in axes[-1]:\n",
    "    ax.set_xlabel(r\"$\\ell$\")"
   ]
  },
  {
   "cell_type": "markdown",
   "id": "609e3a6e-6711-4def-8f27-c2aebc35e10d",
   "metadata": {
    "slideshow": {
     "slide_type": ""
    },
    "tags": []
   },
   "source": [
    "Notice that here the difference between simulations and the (theory+foreground) spectra with possible systematics is mainly driven by the different foreground model adopted by the code"
   ]
  }
 ],
 "metadata": {
  "kernelspec": {
   "display_name": "Python 3 (ipykernel)",
   "language": "python",
   "name": "python3"
  },
  "language_info": {
   "codemirror_mode": {
    "name": "ipython",
    "version": 3
   },
   "file_extension": ".py",
   "mimetype": "text/x-python",
   "name": "python",
   "nbconvert_exporter": "python",
   "pygments_lexer": "ipython3",
   "version": "3.9.13"
  },
  "widgets": {
   "application/vnd.jupyter.widget-state+json": {
    "state": {
     "12525a0022e140e4aaaf201f943f265c": {
      "model_module": "@jupyter-widgets/controls",
      "model_module_version": "2.0.0",
      "model_name": "HTMLModel",
      "state": {
       "layout": "IPY_MODEL_74ab062b1f4743808512114c530327d9",
       "style": "IPY_MODEL_208b416ddd744a8eb8811374870e25b3",
       "value": " 10/10 [00:41&lt;00:00,  4.21s/it]"
      }
     },
     "208b416ddd744a8eb8811374870e25b3": {
      "model_module": "@jupyter-widgets/controls",
      "model_module_version": "2.0.0",
      "model_name": "HTMLStyleModel",
      "state": {
       "description_width": "",
       "font_size": null,
       "text_color": null
      }
     },
     "40adf8a9f4b34c6f8e2974a9424ab4e9": {
      "model_module": "@jupyter-widgets/controls",
      "model_module_version": "2.0.0",
      "model_name": "HTMLModel",
      "state": {
       "layout": "IPY_MODEL_d7912bad919541d8b2e4a7bf6fc548ad",
       "style": "IPY_MODEL_b7554b980c25447fa0edc4ab6c632f30",
       "value": "100%"
      }
     },
     "5485b22fa0d340daa27ac0805e04ca8b": {
      "model_module": "@jupyter-widgets/base",
      "model_module_version": "2.0.0",
      "model_name": "LayoutModel",
      "state": {}
     },
     "633cad9f04b7409db885062af27baf8f": {
      "model_module": "@jupyter-widgets/controls",
      "model_module_version": "2.0.0",
      "model_name": "HBoxModel",
      "state": {
       "children": [
        "IPY_MODEL_40adf8a9f4b34c6f8e2974a9424ab4e9",
        "IPY_MODEL_de090c04874d4a04b0491ff8adf1351a",
        "IPY_MODEL_12525a0022e140e4aaaf201f943f265c"
       ],
       "layout": "IPY_MODEL_f66c022a067c4e3391c191640f40626c"
      }
     },
     "74ab062b1f4743808512114c530327d9": {
      "model_module": "@jupyter-widgets/base",
      "model_module_version": "2.0.0",
      "model_name": "LayoutModel",
      "state": {}
     },
     "85e89c07f45441438fa2727d346c5ee7": {
      "model_module": "@jupyter-widgets/controls",
      "model_module_version": "2.0.0",
      "model_name": "ProgressStyleModel",
      "state": {
       "description_width": ""
      }
     },
     "b7554b980c25447fa0edc4ab6c632f30": {
      "model_module": "@jupyter-widgets/controls",
      "model_module_version": "2.0.0",
      "model_name": "HTMLStyleModel",
      "state": {
       "description_width": "",
       "font_size": null,
       "text_color": null
      }
     },
     "d7912bad919541d8b2e4a7bf6fc548ad": {
      "model_module": "@jupyter-widgets/base",
      "model_module_version": "2.0.0",
      "model_name": "LayoutModel",
      "state": {}
     },
     "de090c04874d4a04b0491ff8adf1351a": {
      "model_module": "@jupyter-widgets/controls",
      "model_module_version": "2.0.0",
      "model_name": "FloatProgressModel",
      "state": {
       "bar_style": "success",
       "layout": "IPY_MODEL_5485b22fa0d340daa27ac0805e04ca8b",
       "max": 10,
       "style": "IPY_MODEL_85e89c07f45441438fa2727d346c5ee7",
       "value": 10
      }
     },
     "f66c022a067c4e3391c191640f40626c": {
      "model_module": "@jupyter-widgets/base",
      "model_module_version": "2.0.0",
      "model_name": "LayoutModel",
      "state": {}
     }
    },
    "version_major": 2,
    "version_minor": 0
   }
  }
 },
 "nbformat": 4,
 "nbformat_minor": 5
}
